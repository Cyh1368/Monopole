{
 "cells": [
  {
   "cell_type": "code",
   "execution_count": 18,
   "metadata": {},
   "outputs": [
    {
     "name": "stderr",
     "output_type": "stream",
     "text": [
      "/var/folders/ty/0sfpr_454fxfc8pv3h3387m00000gq/T/ipykernel_57740/3974726811.py:22: DeprecationWarning: executable_path has been deprecated, please pass in a Service object\n",
      "  driver = webdriver.Chrome(executable_path=chrome_driver_path)\n"
     ]
    },
    {
     "name": "stdout",
     "output_type": "stream",
     "text": [
      "No result\n"
     ]
    },
    {
     "ename": "SystemExit",
     "evalue": "",
     "output_type": "error",
     "traceback": [
      "An exception has occurred, use %tb to see the full traceback.\n",
      "\u001b[0;31mSystemExit\u001b[0m\n"
     ]
    },
    {
     "name": "stderr",
     "output_type": "stream",
     "text": [
      "/Users/maxlien/Library/Python/3.9/lib/python/site-packages/IPython/core/interactiveshell.py:3441: UserWarning: To exit: use 'exit', 'quit', or Ctrl-D.\n",
      "  warn(\"To exit: use 'exit', 'quit', or Ctrl-D.\", stacklevel=1)\n"
     ]
    }
   ],
   "source": [
    "from selenium import webdriver\n",
    "from selenium.webdriver.support.ui import WebDriverWait\n",
    "from selenium.webdriver.support import expected_conditions as EC\n",
    "from selenium.webdriver.common.by import By\n",
    "from selenium.common.exceptions import TimeoutException\n",
    "from selenium.common.exceptions import ElementNotInteractableException\n",
    "from selenium.webdriver.common.keys import Keys\n",
    "import time\n",
    "from dotenv import load_dotenv\n",
    "import os\n",
    "from bs4 import BeautifulSoup\n",
    "import sys\n",
    "def config():\n",
    "    load_dotenv()\n",
    "  \n",
    "config()\n",
    "input='awdashdkjashdkjas hd'\n",
    "url ='https://www.quora.com/'\n",
    "\n",
    "chrome_driver_path = '/Users/maxlien/Downloads/chromedriver_mac_arm64/chromedriver'\n",
    "\n",
    "driver = webdriver.Chrome(executable_path=chrome_driver_path)\n",
    "\n",
    "driver.get(url=url)\n",
    "wait = WebDriverWait(driver, 10)\n",
    "username = str(os.getenv('MONOPLE_GMAIL'))\n",
    "password=str(os.getenv('MONOPLE_PASSWORD'))\n",
    "\n",
    "username_box = wait.until(EC.presence_of_element_located((By.XPATH, '//*[@id=\"email\"]')))\n",
    "username_box.send_keys(username)\n",
    "\n",
    "password_box = wait.until(EC.presence_of_element_located((By.XPATH, '//*[@id=\"password\"]')))\n",
    "password_box.send_keys(password)\n",
    "\n",
    "try:\n",
    "    login_button_XPATH = '//*[@id=\"root\"]/div/div[2]/div/div/div/div/div/div[2]/div[2]/div[4]/button'\n",
    "    login_button=wait.until(EC.presence_of_element_located((By.XPATH, login_button_XPATH)))\n",
    "    login_button.click()\n",
    "except ElementNotInteractableException:\n",
    "    try:\n",
    "        time.sleep(1)\n",
    "        login_button_XPATH = '//*[@id=\"root\"]/div/div[2]/div/div/div/div/div/div[2]/div[2]/div[4]/button'\n",
    "        login_button=wait.until(EC.presence_of_element_located((By.XPATH, login_button_XPATH)))\n",
    "        login_button.click()\n",
    "    except Exception as e:\n",
    "        driver.quit()\n",
    "        print(f\"can't click login button: {e}\")\n",
    "        sys.exit()\n",
    "\n",
    "\n",
    "\n",
    "search_box_XPATH = '//*[@id=\"root\"]/div/div[2]/div/div[2]/div/div[2]/div/div[1]/div/div/form/div/div/div/div/div/input'\n",
    "search_box=wait.until(EC.presence_of_element_located((By.XPATH, search_box_XPATH )))\n",
    "search_box.send_keys(input)\n",
    "\n",
    "ENTER_XPATH ='//*[@id=\"selector-option-0\"]/div/div'\n",
    "ENTER = wait.until(EC.presence_of_element_located((By.XPATH, ENTER_XPATH )))\n",
    "ENTER.click()\n",
    "\n",
    "\n",
    "\n",
    "main_content_XPATH = '//*[@id=\"mainContent\"]/div'\n",
    "main = wait.until(EC.presence_of_element_located((By.XPATH, main_content_XPATH )))\n",
    "# anwser_XPATH = '//*[@id=\"mainContent\"]/div[4]/div[2]/div/div/div/div/div[1]/div[2]/div/div[1]/div[2]'\n",
    "# anwser = wait.until(EC.presence_of_element_located((By.CLASS_NAME, \"q-box dom_annotate_multifeed_bundle_AnswersBundle qu-borderAll qu-borderRadius--small qu-borderColor--raised qu-boxShadow--small qu-mb--small qu-bg--raised\")))\n",
    "exit_string =f\"Results for {input}\\nWe couldn't find any results for '{input}'.\\nAdd question\"\n",
    "if main.text == exit_string :\n",
    "    print('No result')\n",
    "    driver.quit()\n",
    "    sys.exit()\n",
    "a = main.text\n",
    "main_html = main.get_attribute(\"outerHTML\")\n",
    "soup = BeautifulSoup(main_html, parser='html.parser')\n",
    "links = soup.find_all('a')\n",
    "for link in links:\n",
    "    herf = link.get_attribute('herf')\n",
    "    if herf:\n",
    "        print(herf)\n",
    "print(main_html)\n",
    "\n",
    "\n",
    "#more_XPATH = '//*[@id=\"mainContent\"]/div[3]/div[3]/div/div/div/div/div[1]/div[2]/div/div[1]/div[2]/div/div/span/span'\n",
    "\n",
    "\n",
    "time.sleep(10)\n",
    "driver.quit()\n",
    "\n",
    "\n"
   ]
  },
  {
   "cell_type": "code",
   "execution_count": 16,
   "metadata": {},
   "outputs": [
    {
     "data": {
      "text/plain": [
       "\"Results for awdashdkjashdkjas hd\\nWe couldn't find any results for 'awdashdkjashdkjas hd'.\\nAdd question\""
      ]
     },
     "execution_count": 16,
     "metadata": {},
     "output_type": "execute_result"
    }
   ],
   "source": [
    "a"
   ]
  },
  {
   "cell_type": "code",
   "execution_count": null,
   "metadata": {},
   "outputs": [],
   "source": []
  }
 ],
 "metadata": {
  "kernelspec": {
   "display_name": "Python 3",
   "language": "python",
   "name": "python3"
  },
  "language_info": {
   "codemirror_mode": {
    "name": "ipython",
    "version": 3
   },
   "file_extension": ".py",
   "mimetype": "text/x-python",
   "name": "python",
   "nbconvert_exporter": "python",
   "pygments_lexer": "ipython3",
   "version": "3.9.6"
  },
  "orig_nbformat": 4
 },
 "nbformat": 4,
 "nbformat_minor": 2
}
