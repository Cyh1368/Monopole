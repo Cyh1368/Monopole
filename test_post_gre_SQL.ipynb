{
 "cells": [
  {
   "cell_type": "code",
   "execution_count": 8,
   "metadata": {},
   "outputs": [],
   "source": [
    "import psycopg2\n",
    "from dotenv import load_dotenv\n",
    "import os\n",
    "\n",
    "def config():\n",
    "    load_dotenv()\n",
    "  \n",
    "config()\n",
    "\n",
    "username = f\"{str(os.getenv('POST_GRE_SQL_USERNAME'))}\"\n",
    "password=f\"{str(os.getenv('POST_GRE_SQL_PASSWORD'))}\"\n",
    "host=f\"{str(os.getenv('POST_GRE_SQL_HOST'))}\"\n",
    "port=int(os.getenv('POST_GRE_SQL_PORT'))\n",
    "dbname = f\"{str(os.getenv('POST_GRE_SQL_DB_NAME'))}\""
   ]
  },
  {
   "cell_type": "code",
   "execution_count": 9,
   "metadata": {},
   "outputs": [
    {
     "ename": "OperationalError",
     "evalue": "connection to server at \"monople-test.cevtsiwr0pog.us-east-1.rds.amazonaws.com\" (52.203.121.192), port 5432 failed: FATAL:  password authentication failed for user \"Monopel\"\nconnection to server at \"monople-test.cevtsiwr0pog.us-east-1.rds.amazonaws.com\" (52.203.121.192), port 5432 failed: FATAL:  no pg_hba.conf entry for host \"220.136.14.12\", user \"Monopel\", database \"monople-test\", no encryption\n",
     "output_type": "error",
     "traceback": [
      "\u001b[0;31m---------------------------------------------------------------------------\u001b[0m",
      "\u001b[0;31mOperationalError\u001b[0m                          Traceback (most recent call last)",
      "Cell \u001b[0;32mIn[9], line 1\u001b[0m\n\u001b[0;32m----> 1\u001b[0m conn \u001b[39m=\u001b[39m psycopg2\u001b[39m.\u001b[39;49mconnect(\n\u001b[1;32m      2\u001b[0m     dbname\u001b[39m=\u001b[39;49mdbname,\n\u001b[1;32m      3\u001b[0m     user\u001b[39m=\u001b[39;49musername,\n\u001b[1;32m      4\u001b[0m     password\u001b[39m=\u001b[39;49mpassword,\n\u001b[1;32m      5\u001b[0m     host\u001b[39m=\u001b[39;49mhost,\n\u001b[1;32m      6\u001b[0m     port\u001b[39m=\u001b[39;49mport\n\u001b[1;32m      7\u001b[0m )\n",
      "File \u001b[0;32m~/Library/Python/3.9/lib/python/site-packages/psycopg2/__init__.py:122\u001b[0m, in \u001b[0;36mconnect\u001b[0;34m(dsn, connection_factory, cursor_factory, **kwargs)\u001b[0m\n\u001b[1;32m    119\u001b[0m     kwasync[\u001b[39m'\u001b[39m\u001b[39masync_\u001b[39m\u001b[39m'\u001b[39m] \u001b[39m=\u001b[39m kwargs\u001b[39m.\u001b[39mpop(\u001b[39m'\u001b[39m\u001b[39masync_\u001b[39m\u001b[39m'\u001b[39m)\n\u001b[1;32m    121\u001b[0m dsn \u001b[39m=\u001b[39m _ext\u001b[39m.\u001b[39mmake_dsn(dsn, \u001b[39m*\u001b[39m\u001b[39m*\u001b[39mkwargs)\n\u001b[0;32m--> 122\u001b[0m conn \u001b[39m=\u001b[39m _connect(dsn, connection_factory\u001b[39m=\u001b[39;49mconnection_factory, \u001b[39m*\u001b[39;49m\u001b[39m*\u001b[39;49mkwasync)\n\u001b[1;32m    123\u001b[0m \u001b[39mif\u001b[39;00m cursor_factory \u001b[39mis\u001b[39;00m \u001b[39mnot\u001b[39;00m \u001b[39mNone\u001b[39;00m:\n\u001b[1;32m    124\u001b[0m     conn\u001b[39m.\u001b[39mcursor_factory \u001b[39m=\u001b[39m cursor_factory\n",
      "\u001b[0;31mOperationalError\u001b[0m: connection to server at \"monople-test.cevtsiwr0pog.us-east-1.rds.amazonaws.com\" (52.203.121.192), port 5432 failed: FATAL:  password authentication failed for user \"Monopel\"\nconnection to server at \"monople-test.cevtsiwr0pog.us-east-1.rds.amazonaws.com\" (52.203.121.192), port 5432 failed: FATAL:  no pg_hba.conf entry for host \"220.136.14.12\", user \"Monopel\", database \"monople-test\", no encryption\n"
     ]
    }
   ],
   "source": [
    "conn = psycopg2.connect(\n",
    "    dbname=dbname,\n",
    "    user=username,\n",
    "    password=password,\n",
    "    host=host,\n",
    "    port=port\n",
    ")"
   ]
  },
  {
   "cell_type": "code",
   "execution_count": null,
   "metadata": {},
   "outputs": [],
   "source": [
    "conn.autocommit=True"
   ]
  },
  {
   "cell_type": "code",
   "execution_count": null,
   "metadata": {},
   "outputs": [],
   "source": []
  }
 ],
 "metadata": {
  "kernelspec": {
   "display_name": "Python 3",
   "language": "python",
   "name": "python3"
  },
  "language_info": {
   "codemirror_mode": {
    "name": "ipython",
    "version": 3
   },
   "file_extension": ".py",
   "mimetype": "text/x-python",
   "name": "python",
   "nbconvert_exporter": "python",
   "pygments_lexer": "ipython3",
   "version": "3.9.6"
  },
  "orig_nbformat": 4
 },
 "nbformat": 4,
 "nbformat_minor": 2
}
