{
 "cells": [
  {
   "cell_type": "code",
   "execution_count": 35,
   "metadata": {},
   "outputs": [],
   "source": [
    "from selenium import webdriver\n",
    "from selenium.webdriver.support.ui import WebDriverWait\n",
    "from selenium.webdriver.support import expected_conditions as EC\n",
    "from selenium.webdriver.common.by import By\n",
    "from selenium.common.exceptions import TimeoutException\n",
    "from selenium.common.exceptions import ElementNotInteractableException\n",
    "from selenium.webdriver.common.keys import Keys\n",
    "import time\n",
    "from dotenv import load_dotenv\n",
    "import os\n",
    "from bs4 import BeautifulSoup\n",
    "import sys\n",
    "import pprint\n",
    "max_chrome_driver_path = '/Users/maxlien/Downloads/chromedriver_mac_arm64/chromedriver'\n",
    "\n",
    "from dotenv import load_dotenv\n",
    "import os\n",
    "\n",
    "def config():\n",
    "    load_dotenv()\n",
    "  \n",
    "config()\n",
    "\n",
    "username = str(os.getenv('MONOPLE_GMAIL'))\n",
    "password=str(os.getenv('MONOPLE_PASSWORD'))"
   ]
  },
  {
   "cell_type": "code",
   "execution_count": 57,
   "metadata": {},
   "outputs": [],
   "source": [
    "class StackExchangeScraper:\n",
    "    def __init__(self, chrome_driver_path, user_agent=None,username=username, password=password):\n",
    "        self.driver_path = chrome_driver_path\n",
    "        options = webdriver.ChromeOptions()\n",
    "        \n",
    "        # If a custom user agent is provided, set it. Otherwise, use a common one.\n",
    "        if user_agent:\n",
    "            options.add_argument(f\"user-agent={user_agent}\")\n",
    "        else:\n",
    "            options.add_argument(\"user-agent=Mozilla/5.0 (Windows NT 10.0; Win64; x64) AppleWebKit/537.36 (KHTML, like Gecko) Chrome/91.0.4472.124 Safari/537.36\")\n",
    "        \n",
    "        self.driver = webdriver.Chrome(self.driver_path, options=options)\n",
    "        self.wait =  WebDriverWait(self.driver, 10)\n",
    "\n",
    "        self.username =username\n",
    "        self.password = password\n",
    "\n",
    "    # ... rest of the class methods remain unchanged ...\n",
    "\n",
    "# Note: Only the initialization method of the class is shown here for brevity.\n",
    "# The rest of the class methods would remain unchanged from the previous version.\n",
    "\n",
    "    def _setup_headless_driver(self):\n",
    "        \"\"\"\n",
    "        Sets up a headless Selenium Chrome driver.\n",
    "        \"\"\"\n",
    "        options = webdriver.ChromeOptions()\n",
    "        options.add_argument('--headless')\n",
    "        options.add_argument('--no-sandbox')\n",
    "        options.add_argument('--disable-dev-shm-usage')\n",
    "        self.driver = webdriver.Chrome(self.driver_path, options=options)\n",
    "    def _wait(self,type, name):\n",
    "        return self.wait.until(\n",
    "                EC.presence_of_element_located((type, name))\n",
    "            )\n",
    "    def _login(self, username, password):\n",
    "        \n",
    "        \n",
    "        login_button_XPATH = '/html/body/div[1]/header[1]/div/nav/ol/li[4]/a'\n",
    "        login_button = self._wait(By.XPATH, login_button_XPATH)\n",
    "        self.driver.execute_script(\"arguments[0].scrollIntoView();\", login_button)\n",
    "        login_button.click()\n",
    "\n",
    "\n",
    "        \n",
    "    \n",
    "\n",
    "        username_box = self._wait(By.XPATH, '//*[@id=\"email\"]')\n",
    "        username_box.send_keys(username)\n",
    "\n",
    "        password_box = self._wait(By.XPATH,'//*[@id=\"password\"]' )\n",
    "        password_box.send_keys(password)\n",
    "\n",
    "\n",
    "        submit_button =self._wait(By.XPATH, '//*[@id=\"submit-button\"]') \n",
    "        self.driver.execute_script(\"arguments[0].scrollIntoView();\", submit_button)\n",
    "        submit_button.click()\n",
    "\n",
    "\n",
    "\n",
    "\n",
    "    def search_elements(self, input):\n",
    "        self.driver.get('https://stackexchange.com')\n",
    "\n",
    "        self._login(self.username,self.password)\n",
    "\n",
    "        search_box = self._wait(By.XPATH,'//*[@id=\"search\"]/div/input')\n",
    "        search_box.send_keys(input)\n",
    "        search_box.send_keys(Keys.ENTER)\n",
    "\n",
    "         # Using the new provided XPath to find the desired element\n",
    "        try:\n",
    "            element = self._wait(By.XPATH, '//*[@id=\"content\"]/div/div[3]')\n",
    "        except TimeoutException:\n",
    "            print(\"Element not found or page took too long to load\")\n",
    "            return []\n",
    "        \n",
    "        return [element]\n",
    "\n",
    "    def scrape(self, input):\n",
    "        \"\"\"\n",
    "        Main method to scrape StackExchange for a given query and return the texts in a list.\n",
    "        \"\"\"\n",
    "        url = 'https://stackexchange.com'\n",
    "        #self._setup_headless_driver()\n",
    "        \n",
    "        elements = self.search_elements(input)\n",
    "        texts = [i.text for i in elements if i.text != '']\n",
    "        time.sleep(10)\n",
    "        #self.driver.quit()\n",
    "        return texts\n",
    "\n",
    "# Note: As before, the Selenium portion cannot be executed in this environment. \n",
    "# The code should be run in a local environment with the appropriate browser driver.\n"
   ]
  },
  {
   "cell_type": "code",
   "execution_count": 58,
   "metadata": {},
   "outputs": [
    {
     "name": "stderr",
     "output_type": "stream",
     "text": [
      "/var/folders/ty/0sfpr_454fxfc8pv3h3387m00000gq/T/ipykernel_891/1719882426.py:12: DeprecationWarning: executable_path has been deprecated, please pass in a Service object\n",
      "  self.driver = webdriver.Chrome(self.driver_path, options=options)\n"
     ]
    },
    {
     "data": {
      "text/plain": [
       "['What is the \\'periodic table\\' tag for?\\nWhat is periodic-table intended for? The tag wiki excerpt is not very helpful as it just describes what the periodic table is. The periodic table is a systematic arrangement of the known chemical …\\ndiscussiontags\\nasked Sep 16, 2015 at 20:46 on Chemistry Meta Stack Exchange\\nWhat is the meaning of the math expression in the periodic table example?\\nAs topic Here is the periodic table 1 example : code line 298,299 const phi = Math.acos( - 1 + ( 2 * i ) / l ); const theta = Math.sqrt( l * Math.PI ) * phi; Above is a segment code of periodic table …\\nthree.js\\nasked Apr 3, 2022 at 7:57 on Stack Overflow\\nWhat is the best book or site to understand how to construct Periodic Table, theoretically?\\nI want to understand how Periodic table is constructed theoretically and mathematically. But I can\\'t find self-contained book or site about it by myself since I\\'m a computer science guy and lack of k …\\nquantum-mechanicsresource-recommendationsatomic-physicsphysical-chemistry\\nasked Aug 17, 2018 at 17:58 on Physics Stack Exchange\\nWhat is a \"period\" of the periodic table?\\nI\\'m familiar with the periodic table / periodic system, but I wonder why it\\'s called \"periodic\" since there seems not much periodic about (there seems to be little or no predictability of which elemen …\\nperiodic-table\\nasked Apr 1, 2013 at 10:51 on Chemistry Stack Exchange\\nWhat is the most rare element in periodic table\\nWhat is the most rare element in periodic table? I have a lot of confusion about this.\\nphysical-chemistryeveryday-chemistryperiodic-tableelements\\nasked Dec 21, 2013 at 13:10 on Chemistry Stack Exchange\\nWhy do some periodic tables have 18 groups while others have 8?\\nIn school I have been taught about the periodic table with 8 groups, representing the number of electrons in the outer shell (with exceptions). But online almost all I can find is periodic tables with …\\nperiodic-table\\nasked Mar 16, 2016 at 6:42 on Chemistry Stack Exchange\\nHow should I build an additional periodic table?\\nRecently, I was going through the magical materials that existed in one of my fantasy settings. It was all going swimmingly, when a thought occurred to me: \"You know, I should figure out how chemistr …\\nmagicchemistryworldbuilding-processmaterialsalternate-reality\\nasked May 31, 2022 at 1:14 on Worldbuilding Stack Exchange\\nWhat method of OOP would be appropriate for periodic table properties?\\nI\\'m trying to code in java a pet project using the periodic table. What\\'s the best/efficient way to make a data set out of periodic element properties. Should I make a class of all the elements indivi …\\njavachemistry\\nasked May 28, 2019 at 2:51 on Stack Overflow\\n\"Periodic Table\" of Particles of the Standard Model?\\nWhat is a good, single, \"periodic table\" of all the particles of the Standard Model? I thought Particle Data Group would have a single-page PDF of this, but I couldn\\'t find a single table listing all …\\nstandard-modelparticle-physics\\nasked May 3, 2014 at 21:31 on Physics Stack Exchange\\nWhat is really the number in the periodic table?\\nI learning basic chemistry and i have a doubt. I have this definitions Molar mass: Is the mass of $6.022\\\\times10^{23}$ atoms of a chemical element and its unit of measurement is $\\\\mathrm{g/mol}$. I …\\nelements\\nasked Apr 1, 2020 at 21:05 on Chemistry Stack Exchange\\nWhat is the true depiction of the periodic table?\\nNormally with the periodic table the lanthanide series is separated out because it\\'s long and would make the table wide. I looked for an expanded version and found this: I found it kind of strange …\\natomsperiodic-trendselementsperiodic-table\\nasked Jul 8, 2018 at 22:53 on Chemistry Stack Exchange\\nWhat is the position of hydrogen in the periodic table?\\nHydrogen is not in the first group as it was before and it is now placed above the periodic table? So why is it still categorized as a metal in some books?\\nphysical-chemistryhydrogenelements\\nasked Jul 23, 2016 at 8:15 on Chemistry Stack Exchange\\nHow to make periodic table in objective-c?\\nI want to create an app that show periodic table but I don\\'t know how to do that simply. one way i thought was UICollectionView but it is not good way. I want to know what can I search and look for. T …\\niosobjective-cxcode\\nasked Jun 21, 2017 at 21:52 on Stack Overflow\\nHow to visualize multi-dimensions in topological periodic table?\\nThis is a question for those who are familiar with topological periodic table. The first row and right side columns represents dimensions of topological materials in periodic table. I know that for …\\ncondensed-mattersuperconductivityspacetime-dimensionstopological-insulatorsvisualization\\nasked Sep 17, 2017 at 15:08 on Physics Stack Exchange\\nWhat is the group number or name for elements between group 3 and 4 (F-block) on the periodic table?\\nWhat is the group number or name for elements between group 3 and 4 (F-block) on the periodic table? I noticed when I look at a periodic table of elements, the elements of the F-block between group 3 …\\nperiodic-tableelements\\nasked Nov 25, 2013 at 4:55 on Chemistry Stack Exchange\\n15\\n30\\n50\\nper page\\n1\\n2\\n3\\n4\\n5\\n…\\n296\\nnext']"
      ]
     },
     "execution_count": 58,
     "metadata": {},
     "output_type": "execute_result"
    }
   ],
   "source": [
    "qs = StackExchangeScraper(max_chrome_driver_path)\n",
    "qs.scrape('what is periodic table')"
   ]
  },
  {
   "cell_type": "code",
   "execution_count": null,
   "metadata": {},
   "outputs": [],
   "source": []
  },
  {
   "cell_type": "code",
   "execution_count": null,
   "metadata": {},
   "outputs": [],
   "source": []
  }
 ],
 "metadata": {
  "kernelspec": {
   "display_name": "Python 3",
   "language": "python",
   "name": "python3"
  },
  "language_info": {
   "codemirror_mode": {
    "name": "ipython",
    "version": 3
   },
   "file_extension": ".py",
   "mimetype": "text/x-python",
   "name": "python",
   "nbconvert_exporter": "python",
   "pygments_lexer": "ipython3",
   "version": "3.9.6"
  },
  "orig_nbformat": 4
 },
 "nbformat": 4,
 "nbformat_minor": 2
}
