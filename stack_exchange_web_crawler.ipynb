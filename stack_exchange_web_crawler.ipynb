{
 "cells": [
  {
   "cell_type": "code",
   "execution_count": 40,
   "metadata": {},
   "outputs": [],
   "source": [
    "from selenium import webdriver\n",
    "from selenium.webdriver.support.ui import WebDriverWait\n",
    "from selenium.webdriver.support import expected_conditions as EC\n",
    "from selenium.webdriver.common.by import By\n",
    "from selenium.common.exceptions import TimeoutException\n",
    "from selenium.common.exceptions import ElementNotInteractableException\n",
    "from selenium.webdriver.common.keys import Keys\n",
    "from selenium import webdriver\n",
    "from webdriver_manager.chrome import ChromeDriverManager\n",
    "from selenium.webdriver.chrome.service import Service as ChromeService\n",
    "\n",
    "\n",
    "import time\n",
    "from dotenv import load_dotenv\n",
    "import os\n",
    "from bs4 import BeautifulSoup\n",
    "import requests\n",
    "import pprint\n",
    "max_chrome_driver_path = '/Users/maxlien/Downloads/chromedriver-mac-arm64/chromedriver'\n",
    "\n",
    "from dotenv import load_dotenv\n",
    "import os\n",
    "\n",
    "def config():\n",
    "    load_dotenv()\n",
    "  \n",
    "config()\n",
    "\n",
    "username = str(os.getenv('MONOPLE_GMAIL'))\n",
    "password=str(os.getenv('MONOPLE_PASSWORD'))"
   ]
  },
  {
   "cell_type": "code",
   "execution_count": 41,
   "metadata": {},
   "outputs": [
    {
     "data": {
      "text/plain": [
       "['\\nGiven that $A=LU$ where $L$ and $U$ are (known) lower and upper triangular matrices, is there any simple way to determine whether $A$ is positive definite?\\nBackground\\nI have been using this algorithm on Wikipedia to compute LU decompositions.\\nThe comment section says:\\n\\nINPUT: A ... a square matrix having dimension N\\nOUTPUT: Matrix A is changed, it contains a copy of both matrices L-E and U as A=(L-E)+U such that PA=LU.\\n\\nI\\'m not sure what exactly \\'E\\' refers to here, but I understand that \\'L\\' refers to a lower triangular matrix, and \\'U\\' to an upper triangular matrix, and I understand that the algorithm is letting these two cohabit the same square matrix.\\nI seek to determine whether the original matrix $A$ is positive definite. I have a feeling that $A$ is positive definite only if $A$ is symmetric and (after running the algorithm) all of the diagonal elements are positive. Is this correct? (Or is there some other way to determine whether $A$ is positive definite, from its LU decomposition?\\nEdit:\\nElsewhere on the same Wikipedia page it says\\n\\nIf $A$ is a symmetric ... positive definite matrix, we can arrange matters so that $U$ is the ... transpose of $L$. That is, we can write $A$ as\\n$$A = L L^T$$\\nThis decomposition is called the Cholesky decomposition.\\n\\nMoreover I have read somewhere that a matrix is positive definite if and only if its Cholesky decomposition exists. But I don\\'t know how to put all this together (e.g. what \"arrange matters\" above means exactly) to determine from the LU decomposition whether the matrix is positive definite.\\n',\n",
       " '\\nWe assume that $A\\\\in M_n$ is a real matrix.\\nThere are  $2$ definitions for $A>0$.\\ni)  $A$ is symmetric and, for every $x\\\\not= 0$, $x^TAx>0$.\\nii) For every $x\\\\not= 0$, $x^TAx>0$.\\nThen ii) is equivalent to i) for the symmetric matrix $A+A^T$.\\nThus we may assume that $A$ is symmetric.\\nThen the fastest method to see if $A>0$ is to use the standard algorithm that calculates the Choleski deomposition of $A$.\\n$\\\\bullet$ if the algo. runs completely, then $A>0$.\\n$\\\\bullet$ If the algo. stops with an error message, then $A$ is not $>0$.\\n',\n",
       " '\\nWe can determine whether $A>0$ by examining the diagonals of $L$ and $U$.\\n$$A>0 \\\\iff l_{i,i}u_{i,i}>0 \\\\forall i$$\\nThese products $l_{i,i}u_{i,i}$ are the diagonal elements of $D$ in the LDU decomposition, and $A>0\\\\iff D>0$ as shown here.\\n(In the algorithm referenced from Wikipedia it is simply a matter of testing whether all diagonal elements in the output are positive.)\\n']"
      ]
     },
     "execution_count": 41,
     "metadata": {},
     "output_type": "execute_result"
    }
   ],
   "source": [
    "url = 'https://math.stackexchange.com/questions/3665900/determining-whether-a-matrix-is-positive-definite-from-its-lu-decomposition'\n",
    "res = requests.get(url)\n",
    "soup = BeautifulSoup(res.text, parser='html_parser')\n",
    "post_body = soup.find_all('div', class_='s-prose js-post-body',itemprop='text')\n",
    "question_title = soup.find('h1',class_='fs-headline1 ow-break-word mb8 flex--item fl1',itemprop='name')\n",
    "\n",
    "answer_body = [i.text for i in post_body if i.text]\n",
    "answer_body"
   ]
  },
  {
   "cell_type": "code",
   "execution_count": 42,
   "metadata": {},
   "outputs": [
    {
     "data": {
      "text/plain": [
       "['\\nWe assume that $A\\\\in M_n$ is a real matrix.\\nThere are  $2$ definitions for $A>0$.\\ni)  $A$ is symmetric and, for every $x\\\\not= 0$, $x^TAx>0$.\\nii) For every $x\\\\not= 0$, $x^TAx>0$.\\nThen ii) is equivalent to i) for the symmetric matrix $A+A^T$.\\nThus we may assume that $A$ is symmetric.\\nThen the fastest method to see if $A>0$ is to use the standard algorithm that calculates the Choleski deomposition of $A$.\\n$\\\\bullet$ if the algo. runs completely, then $A>0$.\\n$\\\\bullet$ If the algo. stops with an error message, then $A$ is not $>0$.\\n',\n",
       " '\\nWe can determine whether $A>0$ by examining the diagonals of $L$ and $U$.\\n$$A>0 \\\\iff l_{i,i}u_{i,i}>0 \\\\forall i$$\\nThese products $l_{i,i}u_{i,i}$ are the diagonal elements of $D$ in the LDU decomposition, and $A>0\\\\iff D>0$ as shown here.\\n(In the algorithm referenced from Wikipedia it is simply a matter of testing whether all diagonal elements in the output are positive.)\\n']"
      ]
     },
     "execution_count": 42,
     "metadata": {},
     "output_type": "execute_result"
    }
   ],
   "source": [
    "answer_body[1:len(answer_body)]"
   ]
  },
  {
   "cell_type": "code",
   "execution_count": 43,
   "metadata": {},
   "outputs": [
    {
     "data": {
      "text/plain": [
       "3"
      ]
     },
     "execution_count": 43,
     "metadata": {},
     "output_type": "execute_result"
    }
   ],
   "source": [
    "a =[]\n",
    "for i in content:\n",
    "    if i.text:\n",
    "        a.append(i.text)\n",
    "len(a)"
   ]
  },
  {
   "cell_type": "code",
   "execution_count": null,
   "metadata": {},
   "outputs": [],
   "source": []
  },
  {
   "cell_type": "code",
   "execution_count": 46,
   "metadata": {},
   "outputs": [],
   "source": [
    "class StackExchangeScraper:\n",
    "    def __init__(self, chrome_driver_path=max_chrome_driver_path,username=username, password=password):\n",
    "        self.driver_path = chrome_driver_path\n",
    "        self.options = webdriver.ChromeOptions()\n",
    "        #print(self.options)\n",
    "        self.service = ChromeService(executable_path=self.driver_path)\n",
    "        self.driver = webdriver.Chrome(service=self.service) #executable_path= max_chrome_driver_path)#,options=self.options)#executable_path=self.driver_path)\n",
    "        self.wait = WebDriverWait(self.driver, 10)\n",
    "        \n",
    "        self.username =username\n",
    "        self.password = password\n",
    "\n",
    "    # ... rest of the class methods remain unchanged ...\n",
    "\n",
    "# Note: Only the initialization method of the class is shown here for brevity.\n",
    "# The rest of the class methods would remain unchanged from the previous version.\n",
    "    def _set_up_agent(self):\n",
    "        #set useragent\n",
    "        self.options.add_argument(\"user-agent=Mozilla/5.0 (Windows NT 10.0; Win64; x64) AppleWebKit/537.36 (KHTML, like Gecko) Chrome/91.0.4472.124 Safari/537.36\")\n",
    "\n",
    "    # def _setup_headless_driver(self):\n",
    "    #     \"\"\"\n",
    "    #     Sets up a headless Selenium Chrome driver.\n",
    "    #     \"\"\"\n",
    "    #     self.options.add_argument('--headless')\n",
    "    #     self.options.add_argument('--no-sandbox')\n",
    "    #     self.options.add_argument('--disable-dev-shm-usage')\n",
    "    #     self.driver = webdriver.Chrome(self.driver_path, options=options)\n",
    "    def _wait(self,type, name):\n",
    "        return self.wait.until(\n",
    "                EC.presence_of_element_located((type, name))\n",
    "            )\n",
    "    def _wait_all(self, type, name):\n",
    "        return self.wait.until(\n",
    "                EC.visibility_of_all_elements_located((type, name))\n",
    "            )\n",
    "    def _login(self, username, password):\n",
    "        \n",
    "        \n",
    "        login_button_XPATH = '/html/body/div[1]/header[1]/div/nav/ol/li[4]/a'\n",
    "        login_button = self._wait(By.XPATH, login_button_XPATH)\n",
    "        self.driver.execute_script(\"arguments[0].scrollIntoView();\", login_button)\n",
    "        login_button.click()\n",
    "\n",
    "\n",
    "        \n",
    "    \n",
    "\n",
    "        username_box = self._wait(By.XPATH, '//*[@id=\"email\"]')\n",
    "        username_box.send_keys(username)\n",
    "\n",
    "        password_box = self._wait(By.XPATH,'//*[@id=\"password\"]' )\n",
    "        password_box.send_keys(password)\n",
    "\n",
    "\n",
    "        submit_button =self._wait(By.XPATH, '//*[@id=\"submit-button\"]') \n",
    "        self.driver.execute_script(\"arguments[0].scrollIntoView();\", submit_button)\n",
    "        submit_button.click()\n",
    "\n",
    "\n",
    "\n",
    "\n",
    "    def search_links(self, input):\n",
    "        self._set_up_agent()\n",
    "        self.driver.get('https://stackexchange.com')\n",
    "\n",
    "        self._login(self.username, self.password)\n",
    "\n",
    "        search_box = self._wait(By.XPATH, '//*[@id=\"search\"]/div/input')\n",
    "        search_box.send_keys(input)\n",
    "        search_box.send_keys(Keys.ENTER)\n",
    "\n",
    "\n",
    "        content = self._wait(By.XPATH, '//*[@id=\"content\"]/div/div[3]')\n",
    "        html_content = content.get_attribute('outerHTML')\n",
    "        soup = BeautifulSoup(html_content, 'html.parser')\n",
    "        links = soup.find_all(class_='result-link')\n",
    "        # for link in links:\n",
    "        #     print(link.a['href'])\n",
    "        urls = [str(link.a['href']) for link in links]\n",
    "        return urls       \n",
    "        # try:\n",
    "        #     #for stack_exchange\n",
    "        #     #result_link_elements = self._wait_all(By.CSS_SELECTOR, \"result-link > a\")\n",
    "        #     #print(result_link_elements)\n",
    "        #     # Extracting the links within each of the 'result-link' elements\n",
    "        #     links =[]\n",
    "        #     for element in self._wait_all(By.CSS_SELECTOR, \"result-link > a\"):\n",
    "        #         links.append(element.get_attribute(\"herf\"))\n",
    "        # except TimeoutException :\n",
    "        #     #in case it redirect to meta.stackexchange\n",
    "        #     #result_link_elements = self._wait_all(By.CLASS_NAME, \"s-post-summary--content-title > a\")\n",
    "        #     #print(result_link_elements)\n",
    "        #     # Extracting the links within each of the 'result-link' elements\n",
    "        #     links = []\n",
    "        #     for element in self._wait_all(By.CSS_SELECTOR, \"s-post-summary--content-title > a\"):\n",
    "        #         links.append(element.get_attribute(\"innerHTML\"))\n",
    "\n",
    "        \n",
    "        # return links\n",
    "\n",
    "\n",
    "    def search_anwser(self,url):\n",
    "        content = dict()\n",
    "        answer_body = []\n",
    "\n",
    "\n",
    "        res = requests.get(str(url))\n",
    "        soup = BeautifulSoup(res.text, parser='html_parser')\n",
    "        post_body = soup.find_all('div', class_='s-prose js-post-body',itemprop='text')\n",
    "        question_title = soup.find('h1',class_='fs-headline1 ow-break-word mb8 flex--item fl1',itemprop='name')\n",
    "\n",
    "        answer_body = [i.text for i in post_body if i.text]\n",
    "\n",
    "\n",
    "        content['question_title'] = question_title\n",
    "        content['question'] = answer_body[0]\n",
    "        content['answer'] = answer_body[1:len(content)]\n",
    "\n",
    "        return content\n",
    "        \n",
    "\n",
    "\n",
    "\n",
    "    def scrape(self, input):\n",
    "        \"\"\"\n",
    "        Main method to scrape StackExchange for a given query and return the texts in a list.\n",
    "        \"\"\"\n",
    "        #self._setup_headless_driver()\n",
    "        \n",
    "        urls = self.search_links(input)\n",
    "        response = {}\n",
    "        for url in urls:\n",
    "            content = self.search_anwser(url)\n",
    "            response[f'{url}'] = content\n",
    "\n",
    "        self.driver.quit()\n",
    "\n",
    "        return response\n",
    "\n",
    "# Note: As before, the Selenium portion cannot be executed in this environment. \n",
    "# The code should be run in a local environment with the appropriate browser driver.\n"
   ]
  },
  {
   "cell_type": "code",
   "execution_count": 47,
   "metadata": {},
   "outputs": [
    {
     "data": {
      "text/plain": [
       "{'https://stackoverflow.com/questions/55769540/position-sticky-not-working-no-matter-what': {'question_title': <h1 class=\"fs-headline1 ow-break-word mb8 flex--item fl1\" itemprop=\"name\"><a class=\"question-hyperlink\" href=\"/questions/55769540/position-sticky-not-working-no-matter-what\">Position: sticky; not working no matter what</a></h1>,\n",
       "  'question': '\\nTrying to get a class to remain sticky and constantly be in view when the user scrolls down the page, but doesn\\'t seem to work no matter what. \\nI tired: \\n.entry-summary{\\nposition: -webkit-sticky; /* Safari */\\n  position: sticky;\\n  top: 0;}\\n\\nBut this does nothing. \\nThe full code can be seen below and is part of this webpage https://aqwaa.net/product/constriction/: \\n<div class=\"qode-single-product-summary\">\\n    <div class=\"summary entry-summary\">\\n        <div class=\"clearfix\">\\n            <h1 class=\"product_title entry-title\">Constriction</h1><p class=\"price\"><span class=\"woocs_price_code\" data-product-id=\"459\"><span class=\"woocommerce-Price-amount amount\"><span class=\"woocommerce-Price-currencySymbol\">€</span>173.39</span></span></p>\\n<div class=\"woocommerce-product-details__short-description\">\\n    <p><strong>Mental Health Description:&nbsp;</strong>So often a symptom of anxiety is the feeling of a tightness or tension in the rib cage area. Anxiety has the ability to kick start your bodies fight or flight response, which can increase your stress which often leads to your bodies muscles to contract and tighten, hence, the ribcage tightness symptom. This piece is designed to bring awareness to how it feels inside for someone who is suffering with mental health problems.</p>\\n</div>\\n\\n\\n    <form class=\"cart\" action=\"https://aqwaa.net/product/constriction/\" method=\"post\" enctype=\"multipart/form-data\">\\n            <div class=\"quantity buttons_added\">\\n        <input type=\"button\" value=\"-\" class=\"minus\">\\n        <input type=\"text\" id=\"quantity_5cba756e35068\" step=\"1\" min=\"1\" max=\"\" name=\"quantity\" value=\"1\" title=\"Qty\" class=\"input-text qty text\" size=\"4\" pattern=\"[0-9]*\" inputmode=\"numeric\" aria-labelledby=\"Constriction quantity\">\\n        <input type=\"button\" value=\"+\" class=\"plus\">\\n    </div>\\n\\n                <button type=\"submit\" name=\"add-to-cart\" value=\"459\" class=\"single_add_to_cart_button button alt single_add_to_cart_button qbutton button alt\">Add to cart</button>\\n\\n            </form>\\n\\n\\n<div class=\"product_meta\">\\n\\n\\n\\n        <span class=\"sku_wrapper\">SKU: <span class=\"sku\">AQ1007</span></span>\\n\\n\\n    <span class=\"posted_in\">Category: <a href=\"https://aqwaa.net/product-category/aqwaa/\" rel=\"tag\">AQWAA</a></span>\\n    <span class=\"tagged_as\">Tag: <a href=\"https://aqwaa.net/product-tag/necklace/\" rel=\"tag\">Necklace</a></span>\\n\\n</div>\\n\\n        <div class=\"q_accordion_holder toggle boxed woocommerce-accordion accordion ui-accordion ui-accordion-icons ui-widget ui-helper-reset\" style=\"visibility: visible;\">\\n\\n                <h6 class=\"title-holder clearfix description_tab ui-accordion-header ui-helper-reset ui-state-default ui-corner-top ui-corner-bottom\">\\n                    <span class=\"tab-title\">Description</span>\\n                </h6>\\n                <div class=\"accordion_content ui-accordion-content ui-helper-reset ui-widget-content ui-corner-bottom\" style=\"display: none;\">\\n                    <div class=\"accordion_content_inner\">\\n\\n\\n<p><strong>Material Description:</strong> Produced in Dubai, UAE, the “Constriction” necklace is is .925 Sterling Silver finished in 18k Gold.</p>\\n<p><strong>Size:</strong> The pendant is 26.5 mm width – 27.3 mm height on a chain of X cm length.</p>\\n<style>.woocommerce-product-gallery__image{width: 100% !important;}</style>\\n\\n                    </div>\\n                </div>\\n\\n\\n                <h6 class=\"title-holder clearfix additional_information_tab ui-accordion-header ui-helper-reset ui-state-default ui-corner-top ui-corner-bottom\">\\n                    <span class=\"tab-title\">Additional Information</span>\\n                </h6>\\n                <div class=\"accordion_content ui-accordion-content ui-helper-reset ui-widget-content ui-corner-bottom\" style=\"display: none;\">\\n                    <div class=\"accordion_content_inner\">\\n\\n\\n<table class=\"woocommerce-product-attributes shop_attributes\">\\n            <tbody><tr class=\"woocommerce-product-attributes-item woocommerce-product-attributes-item--dimensions\">\\n            <th class=\"woocommerce-product-attributes-item__label\">Dimensions</th>\\n            <td class=\"woocommerce-product-attributes-item__value\">26.5 × 27.3 mm</td>\\n        </tr>\\n            <tr class=\"woocommerce-product-attributes-item woocommerce-product-attributes-item--attribute_pa_gold\">\\n            <th class=\"woocommerce-product-attributes-item__label\">Gold</th>\\n            <td class=\"woocommerce-product-attributes-item__value\"><p>18k Gold</p>\\n</td>\\n        </tr>\\n            <tr class=\"woocommerce-product-attributes-item woocommerce-product-attributes-item--attribute_pa_silver\">\\n            <th class=\"woocommerce-product-attributes-item__label\">Silver</th>\\n            <td class=\"woocommerce-product-attributes-item__value\"><p>.925 Sterling Silver</p>\\n</td>\\n        </tr>\\n    </tbody></table>\\n                    </div>\\n                </div>\\n\\n                    </div>\\n\\n\\n        </div><!-- .clearfix -->\\n    </div><!-- .summary -->\\n\\n    </div>\\n\\nI expect the class .summary.entry-summary to remain visible as the user scrolls down the page, this does not happen.\\n',\n",
       "  'answer': ['\\nBased on your code snippet, it looks as though the .entry-summary class belongs to one div, which is a single child element in a container. \\nThe position:sticky can only allow the child to \\'float\\' over sibling elements within the same container. \\nI copied your code into codepen, and added another blank <div> in your <div class=\"qode-single-product-summary\"> to take up some vertical space and provide a sibling element, and it appears to be working just fine. \\n(Look for my comments \"I added this\" towards the bottom of your code) \\nAlso if you run the snippet I provided, you should see the sticky property working until approximately half way down when the dummy div I added ends...\\n\\n\\n.entry-summary {\\r\\n  position: -webkit-sticky;\\r\\n  /* Safari */\\r\\n  position: sticky;\\r\\n  top: 0;\\r\\n}\\r\\n\\r\\n\\r\\n/* i added this */\\r\\n\\r\\n#spacefill {\\r\\n  height: 10000px;\\r\\n}\\n<div class=\"qode-single-product-summary\">\\r\\n  <div class=\"summary entry-summary\">\\r\\n    <div class=\"clearfix\">\\r\\n      <h1 class=\"product_title entry-title\">Constriction</h1>\\r\\n      <p class=\"price\"><span class=\"woocs_price_code\" data-product-id=\"459\"><span class=\"woocommerce-Price-amount amount\"><span class=\"woocommerce-Price-currencySymbol\">€</span>173.39</span>\\r\\n        </span>\\r\\n      </p>\\r\\n      <div class=\"woocommerce-product-details__short-description\">\\r\\n        <p><strong>Mental Health Description:&nbsp;</strong>So often a symptom of anxiety is the feeling of a tightness or tension in the rib cage area. Anxiety has the ability to kick start your bodies fight or flight response, which can increase your stress\\r\\n          which often leads to your bodies muscles to contract and tighten, hence, the ribcage tightness symptom. This piece is designed to bring awareness to how it feels inside for someone who is suffering with mental health problems.</p>\\r\\n      </div>\\r\\n\\r\\n\\r\\n      <form class=\"cart\" action=\"https://aqwaa.net/product/constriction/\" method=\"post\" enctype=\"multipart/form-data\">\\r\\n        <div class=\"quantity buttons_added\">\\r\\n          <input type=\"button\" value=\"-\" class=\"minus\">\\r\\n          <input type=\"text\" id=\"quantity_5cba756e35068\" step=\"1\" min=\"1\" max=\"\" name=\"quantity\" value=\"1\" title=\"Qty\" class=\"input-text qty text\" size=\"4\" pattern=\"[0-9]*\" inputmode=\"numeric\" aria-labelledby=\"Constriction quantity\">\\r\\n          <input type=\"button\" value=\"+\" class=\"plus\">\\r\\n        </div>\\r\\n\\r\\n        <button type=\"submit\" name=\"add-to-cart\" value=\"459\" class=\"single_add_to_cart_button button alt single_add_to_cart_button qbutton button alt\">Add to cart</button>\\r\\n\\r\\n      </form>\\r\\n\\r\\n\\r\\n      <div class=\"product_meta\">\\r\\n\\r\\n\\r\\n\\r\\n        <span class=\"sku_wrapper\">SKU: <span class=\"sku\">AQ1007</span></span>\\r\\n\\r\\n\\r\\n        <span class=\"posted_in\">Category: <a href=\"https://aqwaa.net/product-category/aqwaa/\" rel=\"tag\">AQWAA</a></span>\\r\\n        <span class=\"tagged_as\">Tag: <a href=\"https://aqwaa.net/product-tag/necklace/\" rel=\"tag\">Necklace</a></span>\\r\\n\\r\\n      </div>\\r\\n\\r\\n      <div class=\"q_accordion_holder toggle boxed woocommerce-accordion accordion ui-accordion ui-accordion-icons ui-widget ui-helper-reset\" style=\"visibility: visible;\">\\r\\n\\r\\n        <h6 class=\"title-holder clearfix description_tab ui-accordion-header ui-helper-reset ui-state-default ui-corner-top ui-corner-bottom\">\\r\\n          <span class=\"tab-title\">Description</span>\\r\\n        </h6>\\r\\n        <div class=\"accordion_content ui-accordion-content ui-helper-reset ui-widget-content ui-corner-bottom\" style=\"display: none;\">\\r\\n          <div class=\"accordion_content_inner\">\\r\\n\\r\\n\\r\\n            <p><strong>Material Description:</strong> Produced in Dubai, UAE, the “Constriction” necklace is is .925 Sterling Silver finished in 18k Gold.</p>\\r\\n            <p><strong>Size:</strong> The pendant is 26.5 mm width – 27.3 mm height on a chain of X cm length.</p>\\r\\n            <style>\\r\\n              .woocommerce-product-gallery__image {\\r\\n                width: 100% !important;\\r\\n              }\\r\\n            </style>\\r\\n\\r\\n          </div>\\r\\n        </div>\\r\\n\\r\\n\\r\\n        <h6 class=\"title-holder clearfix additional_information_tab ui-accordion-header ui-helper-reset ui-state-default ui-corner-top ui-corner-bottom\">\\r\\n          <span class=\"tab-title\">Additional Information</span>\\r\\n        </h6>\\r\\n        <div class=\"accordion_content ui-accordion-content ui-helper-reset ui-widget-content ui-corner-bottom\" style=\"display: none;\">\\r\\n          <div class=\"accordion_content_inner\">\\r\\n\\r\\n\\r\\n            <table class=\"woocommerce-product-attributes shop_attributes\">\\r\\n              <tbody>\\r\\n                <tr class=\"woocommerce-product-attributes-item woocommerce-product-attributes-item--dimensions\">\\r\\n                  <th class=\"woocommerce-product-attributes-item__label\">Dimensions</th>\\r\\n                  <td class=\"woocommerce-product-attributes-item__value\">26.5 × 27.3 mm</td>\\r\\n                </tr>\\r\\n                <tr class=\"woocommerce-product-attributes-item woocommerce-product-attributes-item--attribute_pa_gold\">\\r\\n                  <th class=\"woocommerce-product-attributes-item__label\">Gold</th>\\r\\n                  <td class=\"woocommerce-product-attributes-item__value\">\\r\\n                    <p>18k Gold</p>\\r\\n                  </td>\\r\\n                </tr>\\r\\n                <tr class=\"woocommerce-product-attributes-item woocommerce-product-attributes-item--attribute_pa_silver\">\\r\\n                  <th class=\"woocommerce-product-attributes-item__label\">Silver</th>\\r\\n                  <td class=\"woocommerce-product-attributes-item__value\">\\r\\n                    <p>.925 Sterling Silver</p>\\r\\n                  </td>\\r\\n                </tr>\\r\\n              </tbody>\\r\\n            </table>\\r\\n          </div>\\r\\n        </div>\\r\\n\\r\\n      </div>\\r\\n      <div id=\"spacefill\">\\r\\n      </div>\\r\\n\\r\\n    </div>\\r\\n    <!-- .clearfix -->\\r\\n  </div>\\r\\n  <!-- .summary -->\\r\\n  <div id=\"spacefill\">\\r\\n    <!-- I added this -->\\r\\n  </div>\\r\\n</div>\\n\\n\\n']},\n",
       " 'https://math.stackexchange.com/questions/3665900/determining-whether-a-matrix-is-positive-definite-from-its-lu-decomposition': {'question_title': <h1 class=\"fs-headline1 ow-break-word mb8 flex--item fl1\" itemprop=\"name\"><a class=\"question-hyperlink\" href=\"/questions/3665900/determining-whether-a-matrix-is-positive-definite-from-its-lu-decomposition\">Determining whether a matrix is positive definite from its LU decomposition</a></h1>,\n",
       "  'question': '\\nGiven that $A=LU$ where $L$ and $U$ are (known) lower and upper triangular matrices, is there any simple way to determine whether $A$ is positive definite?\\nBackground\\nI have been using this algorithm on Wikipedia to compute LU decompositions.\\nThe comment section says:\\n\\nINPUT: A ... a square matrix having dimension N\\nOUTPUT: Matrix A is changed, it contains a copy of both matrices L-E and U as A=(L-E)+U such that PA=LU.\\n\\nI\\'m not sure what exactly \\'E\\' refers to here, but I understand that \\'L\\' refers to a lower triangular matrix, and \\'U\\' to an upper triangular matrix, and I understand that the algorithm is letting these two cohabit the same square matrix.\\nI seek to determine whether the original matrix $A$ is positive definite. I have a feeling that $A$ is positive definite only if $A$ is symmetric and (after running the algorithm) all of the diagonal elements are positive. Is this correct? (Or is there some other way to determine whether $A$ is positive definite, from its LU decomposition?\\nEdit:\\nElsewhere on the same Wikipedia page it says\\n\\nIf $A$ is a symmetric ... positive definite matrix, we can arrange matters so that $U$ is the ... transpose of $L$. That is, we can write $A$ as\\n$$A = L L^T$$\\nThis decomposition is called the Cholesky decomposition.\\n\\nMoreover I have read somewhere that a matrix is positive definite if and only if its Cholesky decomposition exists. But I don\\'t know how to put all this together (e.g. what \"arrange matters\" above means exactly) to determine from the LU decomposition whether the matrix is positive definite.\\n',\n",
       "  'answer': ['\\nWe assume that $A\\\\in M_n$ is a real matrix.\\nThere are  $2$ definitions for $A>0$.\\ni)  $A$ is symmetric and, for every $x\\\\not= 0$, $x^TAx>0$.\\nii) For every $x\\\\not= 0$, $x^TAx>0$.\\nThen ii) is equivalent to i) for the symmetric matrix $A+A^T$.\\nThus we may assume that $A$ is symmetric.\\nThen the fastest method to see if $A>0$ is to use the standard algorithm that calculates the Choleski deomposition of $A$.\\n$\\\\bullet$ if the algo. runs completely, then $A>0$.\\n$\\\\bullet$ If the algo. stops with an error message, then $A$ is not $>0$.\\n']},\n",
       " 'https://electronics.stackexchange.com/questions/499491/splicing-ac-adaptor-cord-which-is-positive-and-which-is-negative': {'question_title': <h1 class=\"fs-headline1 ow-break-word mb8 flex--item fl1\" itemprop=\"name\"><a class=\"question-hyperlink\" href=\"/questions/499491/splicing-ac-adaptor-cord-which-is-positive-and-which-is-negative\">splicing ac adaptor cord which is positive and which is negative?</a></h1>,\n",
       "  'question': '\\ni lost my original asus router power adaptor. so i have a 12v power adaptor with a tip that fits my 19v asus wifi router, and i have a old 19v power adaptor that has a tip that is too small to fit my asus router. so my plan is to cut the tip off the 12v and splice it into the 19v power adaptor so that i have a 19v power adaptor that fits my asus router.\\nfirstly i cut the 12v power adaptor tip with some wire left over but then i couldnt figure out which wire was + - or whatever. I did notice on the ac adaptor power cord that one was black and one had white/grey dashes on it so i broke open the power adaptor and i noticed the wire that had the just black sleeve seems to connect to the + on the board and the wire with the dashes on it connected to the other one. so i assume the black is postivie and the dashes one is negative/ground\\nwhen i cut the tip off of the 19v power adaptor, it was different. it had a wire in the middle and then had another wire all around kinda acting like a shield. so now i dont know out of these ones which is positive or negative. i cant crack open the 19v power adaptor and trace cuz i dont wanna end up breaking it.\\nso how does this work? is the shielding one negative and the middle one is positive? if so then i can just connect it to the other + and - and be good to go. or does it matter what the pin polarity is on the tip?\\ni attached some pics\\nany help would be appreciated.\\nhere are pics\\nPics of wires\\nhttps://i.stack.imgur.com/7IrDT.jpg\\n',\n",
       "  'answer': ['\\nMost likely the center core of the round cable is positive and the shield is negative but I would test with a multimeter to be sure.\\n']},\n",
       " 'https://electronics.stackexchange.com/questions/227190/why-doesnt-positive-negative-terminal-matter-in-some-electrical-applicances': {'question_title': <h1 class=\"fs-headline1 ow-break-word mb8 flex--item fl1\" itemprop=\"name\"><a class=\"question-hyperlink\" href=\"/questions/227190/why-doesnt-positive-negative-terminal-matter-in-some-electrical-applicances\">Why doesn't positive/negative terminal matter in some electrical applicances?</a></h1>,\n",
       "  'question': \"\\nI was wondering why, in some electrical appliances, it doesn't matter which terminal is positive and which is negative, the applicance works anyway. They have plugs like this:\\nAn example, the iPhone/iPad charger:\\nWhat I am saying is, I can insert the plug both ways. I was wondering how this is possible and why the direction of current flow doesn't matter here, as opposed to DC appliances.\\n\",\n",
       "  'answer': [\"\\nBy definition, AC doesn't have polarity. AC is a sinusoidal wave where during some time one terminal voltage is higher than the other, while in the second semicycle, the second terminal voltage is higher than the first.\\n\"]},\n",
       " 'https://stackoverflow.com/questions/7129597/how-to-keep-track-of-a-position-no-matter-what-screen-size-is': {'question_title': <h1 class=\"fs-headline1 ow-break-word mb8 flex--item fl1\" itemprop=\"name\"><a class=\"question-hyperlink\" href=\"/questions/7129597/how-to-keep-track-of-a-position-no-matter-what-screen-size-is\">How to keep track of a position no matter what screen size is?</a></h1>,\n",
       "  'question': \"\\nI'm trying to make a widget that selects an area in the page using JavaScript but the issue is that when it saves the X/Y and Width/Height, it's actually only relevant to that screen size, so if we try to draw that selection on another user's computer, it'll go off the correct position.\\nOn what to rely and how to keep track of an x and y position no matter what the user's screen size is?\\n\",\n",
       "  'answer': [\"\\nobj.offsetLeft and obj.offsetTop will always be relative to the top/left corner which is 0,0. \\n\\nCenter x = window.innerWidth / 2;\\nCenter y = window.innerHeight / 2;\\nObject width = elementNode.offsetWidth;\\nObject height = elementNode.offsetHeight;\\n\\nPosition the object in the middle of the screen:\\nel = document.getElementById('my_div');\\nel.style.position = 'absolute';\\nel.style.left = Math.floor((window.innerWidth / 2) - (el.offsetWidth / 2)) + 'px';\\nel.style.top  = Math.floor((window.innerHeight / 2) - (el.offsetHeight / 2)) + 'px';\\n\\nWorking demo: http://jsfiddle.net/4aenr/\\n\"]},\n",
       " 'https://stackoverflow.com/questions/74447652/if-the-value-in-sql-is-positive-how-can-i-do-this-operation-if-it-is-negative': {'question_title': <h1 class=\"fs-headline1 ow-break-word mb8 flex--item fl1\" itemprop=\"name\"><a class=\"question-hyperlink\" href=\"/questions/74447652/if-the-value-in-sql-is-positive-how-can-i-do-this-operation-if-it-is-negative\">If the value in sql is positive, how can I do this operation if it is negative?</a></h1>,\n",
       "  'question': \"\\nI have a view query in SQL. If the values are positive in my query, I don't have a problem right now. But when the values are negative, the wrong operation is done. Here's how I can separate the operations of returning a positive value from a negative value with the case when query.\\nMy query is:\\nCASE WHEN ((NM.Min <= TT._VALUE) AND (TT._VALUE <= NM.Max)) THEN 1 ELSE 0 END AS Min_max_Status\\n\\nHere, when the NM.Min and NM.Max values are positive, for example, when NM.Min = 10 NM.Max = 100, there is no problem no matter what value my TT._VALUE takes. But when NM.Min = -10 when NM.Max =-100 and TT._VALUE = -90, it prints 0 value in Min_max_Status column because it does not provide the small-large equality here. How can I fix this problem. Thank you in advance for your help\\n\",\n",
       "  'answer': ['\\nFirst of all, we can rewrite your CASE expression using BETWEEN:\\nCASE WHEN TT._VALUE BETWEEN NM.Min AND NM.Max THEN 1 ELSE 0 END AS Min_max_Status\\n\\nAs for your example of NM.Min = -10, NM.Max = -100, and TT._VALUE = -90, I reckon that you should phrase it as:\\nNM.Min = -100, NM.Max = -10, and TT._VALUE = -90\\n\\nUsing the above version will result in the expected output.\\n']},\n",
       " 'https://stackoverflow.com/questions/69641323/why-codeblocks-asking-me-to-add-a-after-elses-condition-if-i-add-a-th': {'question_title': <h1 class=\"fs-headline1 ow-break-word mb8 flex--item fl1\" itemprop=\"name\"><a class=\"question-hyperlink\" href=\"/questions/69641323/why-codeblocks-asking-me-to-add-a-after-elses-condition-if-i-add-a-th\">Why codeblocks asking me to add a \";\" after else's condition? If I add a \":\", there is still a logic error.(check the quesetion body for more detail) [closed]</a></h1>,\n",
       "  'question': '\\n\\n\\n\\n\\n\\n\\n\\nClosed. This question is not reproducible or was caused by typos. It is not currently accepting answers.\\r\\n                                \\r\\n                            \\n\\n\\n\\n\\n\\n\\n\\n\\n\\n\\n\\n This question was caused by a typo or a problem that can no longer be reproduced. While similar questions may be on-topic here, this one was resolved in a way less likely to help future readers.\\n\\n\\nClosed 1 year ago.\\n\\n\\n\\n\\n\\n\\n\\r\\n                        Improve this question\\r\\n                    \\n\\n\\n\\nWrite a C++ program to check whether a given integer is positive even, negative even, positive odd or negative odd.\\n#include <iostream>\\nusing namespace std;\\nint main()\\n{\\n    int n;\\n    cout<< \"Enter the number you want to check: \\\\n\";\\n    cin>>n;\\n\\n    if(n>0 &&n%2 ==0){\\n        cout<< \"number is positive even \\\\n\";\\n    }\\n    else if(n<0 &&n%2 ==0){\\n        cout<< \"number is negative even \\\\n\";\\n    }\\n    else if(n<0 &&n%2 !=0){\\n        cout<< \"number is negative odd \\\\n\";\\n    }\\n    else (n>0 && n%2 !=0){\\n            cout<< \"number is positive odd \\\\n\";\\n    }\\n    \\n    return 0;\\n}\\n\\nThis is my code. When I don\\'t add a semicolon after else (n>0 && n%2 !=0). It shows an error: expected \\';\\' before \\'{\\' token.\\nWhen there is semi colon there is a logic error where else output is shown no matter what the number is.\\n',\n",
       "  'answer': ['\\nYou can not write else (condition) without using if.\\nthe correct way is write else if (condition) like you are doing or you can simply write else { cout << \"Number is positive\"; }.\\n']},\n",
       " 'https://mathematica.stackexchange.com/questions/28659/manipulate-doesnt-work-for-plotting-a-region-where-a-matrix-is-positive-semi-de': {'question_title': <h1 class=\"fs-headline1 ow-break-word mb8 flex--item fl1\" itemprop=\"name\"><a class=\"question-hyperlink\" href=\"/questions/28659/manipulate-doesnt-work-for-plotting-a-region-where-a-matrix-is-positive-semi-de\">Manipulate doesn't work for plotting a region where a matrix is positive semi-definite</a></h1>,\n",
       "  'question': \"\\nI'm facing the following problem and would very much like you help. Thanks is advance!\\nI have defined the following 4x4 matrix:\\n\\\\begin{equation}\\nS=\\\\left(\\n         \\\\begin{array}{cccc}\\n           \\\\frac{1}{r^2}  & 1 & 1 & t\\\\sqrt{x}\\\\\\\\\\n           1 & \\\\frac{1}{t^2} & 1 &  \\\\frac{\\\\sqrt{x}}{t}\\\\\\\\\\n           1 & 1 & 1 & \\\\sqrt{q} \\\\\\\\\\n           t\\\\sqrt{x} & \\\\frac{\\\\sqrt{x}}{t} & \\\\sqrt{q} & 1\\n         \\\\end{array}\\n       \\\\right).\\n\\\\end{equation}\\nwhere $(t,r)$ are two parameters (which I can choose arbitrarily to be any value in the segment $(0,1]$) and $(x,q)$ are the variables (each over the domain $[0,1]$). \\nNow, for a fixed pair of $(r,t)$ I want to plot a region of $(x,q)$ over which the matrix $S$ is positive semi-definite (I want it to be a valid covariance matrix). The thing is that when I try to use the Manipulate function (manipulation on $(r,t)\\\\in(0,1]^2$), and plotting the region of $(x,t)$, nothing shows.\\nNamely, Iv'e written the following:\\nS={{1/r^2, 1, 1, t Sqrt[x]}, {1, 1/t^2, 1, Sqrt[x]/t}, \\n   {1, 1, 1, Sqrt[q]}, {t Sqrt[x], Sqrt[x]/t, Sqrt[q], 1}};\\n\\nManipulate[\\n  RegionPlot[PositiveDefiniteMatrixQ[S], \\n             {x, 0, 1}, {q, 0, 1}], {r, 0, 1}, {t, 0, 1}]\\n\\nand I get an empty graph no matter what values I set for $(r,t)$. You might say that maybe this matrix is never positive semi-definite, but the strange this is that if I manually input numerical values to $(r,t)$ and plot the region, everything works fine.\\nI really need to manipulate over all possible parameter value of $(r,t)$. What is wrong here and how can I fix it?\\nMoreover, is it possible for Mathematica to parametrically find a local minima of a certain function (of the variable $q$ where $(r,t,x)$ serve as parameters) subject to the constraint that the above matrix must be positive semi-definite? If so, it would very much help me to know how to formalize such a command.\\n\",\n",
       "  'answer': ['\\nTry to define your matrix as a function of $(x,q,r,t)$ variables\\nS[x_, q_, r_, t_] := {{1/r^2, 1, 1, t Sqrt[x]}, {1, 1/t^2, 1, Sqrt[x]/t}, {1, 1, 1, Sqrt[q]}, {t Sqrt[x], Sqrt[x]/t, Sqrt[q], 1}};\\n\\nThen Manipulate does what you want\\nManipulate[\\n RegionPlot[\\n  PositiveDefiniteMatrixQ@S[x, q, r, t], {x, 0, 1}, {q, 0, 1}],\\n   {{r, 1/2}, 0, 1}, {{t, 1/2}, 0, 1}]\\n\\n\\n']},\n",
       " 'https://worldbuilding.stackexchange.com/questions/101581/negative-energy-beam-negative-matter-projectiles': {'question_title': <h1 class=\"fs-headline1 ow-break-word mb8 flex--item fl1\" itemprop=\"name\"><a class=\"question-hyperlink\" href=\"/questions/101581/negative-energy-beam-negative-matter-projectiles\">Negative energy beam / Negative matter projectiles [closed]</a></h1>,\n",
       "  'question': '\\n\\n\\n\\n\\n\\n\\n\\nClosed. This question needs details or clarity. It is not currently accepting answers.\\r\\n                                \\r\\n                            \\n\\n\\n\\n\\n\\n\\n\\n\\n\\n\\n\\nWant to improve this question? Add details and clarify the problem by editing this post.\\n\\n\\nClosed 5 years ago.\\n\\n\\n\\n\\n\\n\\n\\r\\n                        Improve this question\\r\\n                    \\n\\n\\n\\nCould you create a negative energy beam? If so what would be the effect directed at positive matter?\\nIf it helps frame the question set the positive energy value to 1 -joule and the positive matter to 1 kiogram of carbon. (please do not be constrained by this guideline it is meant to guide your answer not limit your options)\\nCould you create a negative matter projective? If so would be the effect of impacting on postive matter ?\\nDo known models predict the behavior or negative energy / matter in such a way as to answer this question?\\nIf it helps frame the question the projectile is traveling at 1 kilometer a second towards, and composed of 100 grams of carbon while the target is 1 kilogram of carbon. (please do not be constrained by this guideline it is meant to guide your answer not limit your options)\\nI have seen other posts derailed and confusion in the literature by the perception that negative matter = \\nanti mattter (this is a problem Could negative matter/energy exist in a stable state?). By negative energy / matter I mean the quantifiable class of stuff generated by the casimir effect (https://en.m.wikipedia.org/wiki/Negative_mass) and not other exotic particles / energy such as anti-matter. Additionally the casimir effect, which creates negative energy is well documented and adheres to relativity.\\n',\n",
       "  'answer': ['\\nNegative Mass is Very Confusing\\nI\\'ll just start with this: the behavior of negative mass would be really, really confusing, assuming many of the models we use in physics apply here. (Which is what I\\'m doing.)\\nMathematically, it\\'s easy to compensate for: you just throw a negative sign wherever you see mass. Understanding how that negative sign affects things, however, is what really boggles the mind.\\nFor instance, if you push it, it pushes back, but not only in the Newton\\'s Laws sort of way. You throw a (normal) ball at a lump of this stuff, and the matter pushed into the ball instead of moving with it. Because of its negative mass, the force you apply goes negative: it experiences a pull when normal matter experiences a push.\\nIt falls up.\\nYou push from behind to make it slow down.\\nFriction can make it speed up. (Surface friction, anyways, because it\\'s based on the normal force, which is based off of the object\\'s mass, which is now negative!)\\nIt still follows the right-hand rule of electromagnetism. Okay, that isn\\'t abnormal on its own, but if certainly feels abnormal given the other odd things this matter does. This indifference to electrical forces to will be the key to manipulating and shooting this stuff.\\nNegative Mass Projectiles\\nIf a negative-mass thing has electric charge (or can be induced to have electric charge), you can use something like the Lorentz-Force and make a railgun-like weapon. Normal accelerants, like gunpowder, would cause the negative-mass projectile to fly into the center of the explosion! I\\'m not sure how this would work with a barrel, where this would compress the exploding gases further, but I can say with reasonable certainty this is a bad idea.\\nWhat happens when it collies with something? The (positive) mass object reacts as normal. The negative mass projectile will, instead of bouncing off, stay with the object. Indeed, running into an object may even increase it\\'s speed! This is because the reaction force, which normally causes a projectile to slow, will actually cause it to speed up instead!\\nOf course, this is speculation: we don\\'t have negative mass objects around to do tests on. Just like many other things, we will not know for sure until we test it. Maybe negative mass objects have different physics that the standard models doesn\\'t account for?\\nNegative Energy?\\n\"Negative energy\" doesn\\'t really mean much. It just means the energy involved is going out, or is lower than what you think \"0\" ought to be. For instance, if I measure potential energy from the top of Mt. Everest, we all have negative potential energy. (Unless you are reading this on top of Everest or higher... in which case, I guess you do have positive potential energy.) Energy levels of electrons in atoms are usually assigned negative energy levels. \"Negative Energy\" weapons won\\'t do anything unusual compared to your negative mass projectile.\\n']},\n",
       " 'https://math.stackexchange.com/questions/4014709/show-that-sigma-is-positive-semidefinite-using-jensens-inequality': {'question_title': <h1 class=\"fs-headline1 ow-break-word mb8 flex--item fl1\" itemprop=\"name\"><a class=\"question-hyperlink\" href=\"/questions/4014709/show-that-sigma-is-positive-semidefinite-using-jensens-inequality\">Show that $\\Sigma$ is positive semidefinite using Jensen's inequality</a></h1>,\n",
       "  'question': \"\\nLet $X\\\\in \\\\mathbb R^d$ be a random vector and $\\\\mu=E(X)\\\\in \\\\mathbb R^d$ be its mean. Let $\\\\Sigma=E[(X-\\\\mu)(X-\\\\mu)^T]\\\\in\\\\mathbb R^{d\\\\times d}$ be the variance-covariance matrix of X. Show that $\\\\Sigma$ is positive semidefinite using Jensen's inequality.\\nHint Show that $f(X)=a^TXX^Ta, a\\\\in \\\\mathbb R^d$ is convex.\\nProgress\\nI want to use the hint and the fact that the hessian of a convex function is positive semidefinite.\\n$$\\\\begin{split}f(X)&=(a^TX)^2\\\\\\\\\\n\\\\nabla f(x)&=2a^TXa\\\\\\\\\\n\\\\nabla^2 f(x)&=2aa^T\\\\end{split}$$\\nIs the last step justified? I sort of made it up, but it might be right (my reasoning: the derivative of $a^TX$ is a, and then you transpose the other a). Certrainly the dimension of it is right. I don't know what the derivative of $a^TXa$ wrt X would be.\\n$\\\\nabla f(x)=2\\\\left(\\\\begin{matrix}a^TXa_1\\\\\\\\...\\\\\\\\a^TXa_d\\\\end{matrix}\\\\right)=2\\\\left(\\\\begin{matrix}(a_1X_1+...+a_dX_d)a_1\\\\\\\\...\\\\\\\\(a_1X_1+...+a_dX_d)a_d\\\\end{matrix}\\\\right)$\\nI always get confused about taking the derivative of this wrt X. Do I take wrt $x_1$ and put that in the first column or put that in the first row? (I think it doesn't matter since it's symmetric, but I would still like to know the answer for some reason.)\\n$\\\\nabla^2 f(x)=2\\\\left(\\\\begin{matrix}a_1^2&a_1a_2&...&a_1a_d\\\\\\\\...\\\\\\\\a_da_1&a_da_2&...&a_d^2\\\\end{matrix}\\\\right)$\\nI think this equals $aa^T$ so we're good. (An outer product of a vector wrt itself is psd.) Now how does this help the original problem?\\n\",\n",
       "  'answer': []},\n",
       " 'https://stackoverflow.com/questions/71185626/how-to-make-a-div-fixed-on-the-same-position-no-matter-what-screen-size': {'question_title': <h1 class=\"fs-headline1 ow-break-word mb8 flex--item fl1\" itemprop=\"name\"><a class=\"question-hyperlink\" href=\"/questions/71185626/how-to-make-a-div-fixed-on-the-same-position-no-matter-what-screen-size\">How to make a div fixed on the same position, no matter what screen size</a></h1>,\n",
       "  'question': '\\nI have the following problem: I want to put two bars, which got a either green or blue filling, in the bottom right. The problem is that those bars are not staying in the place they should. I want to fix them at the same position, no matter what screen size.\\nAs you can see, here they are out of the screen\\nHere is the CSS-Styling + HTML\\n\\n\\n.element-1 {\\n  writing-mode: tb-rl;\\n  -webkit-transform: rotate(90deg);\\n  -moz-transform: rotate(90deg);\\n  -o-transform: rotate(90deg);\\n  -ms-transform: rotate(90deg);\\n  transform: rotate(90deg);\\n  width: 10%;\\n  height: 20px;\\n  position: fixed;\\n  margin-top: 38.5%;\\n  margin-left: 75.5%;\\n}\\n\\n.element-2 {\\n  writing-mode: tb-rl;\\n  -webkit-transform: rotate(90deg);\\n  -moz-transform: rotate(90deg);\\n  -o-transform: rotate(90deg);\\n  -ms-transform: rotate(90deg);\\n  transform: rotate(90deg);\\n  width: 10%;\\n  height: 20px;\\n  position: fixed;\\n  margin-top: 38.5%;\\n  margin-left: 91.7%;\\n}\\n\\n.meter {\\n  background: rgba(65, 60, 60, 0.39);\\n  -webkit-border-radius: 25px;\\n  -moz-border-radius: 25px;\\n  border-radius: 25px;\\n  box-shadow: inset 0 -1px 1px rgb(184, 45, 45);\\n  display: block;\\n  top: 8%;\\n  width: 270px;\\n  height: 20px;\\n  margin-bottom: 10px;\\n  padding: 5px;\\n  margin-left: 10px;\\n  position: absolute;\\n}\\n\\n.meter>span {\\n  display: block;\\n  height: 100%;\\n  border-top-right-radius: 8px;\\n  border-bottom-right-radius: 8px;\\n  border-top-left-radius: 20px;\\n  border-bottom-left-radius: 20px;\\n  background-color: #2bc253;\\n  background-image: linear-gradient(to bottom, #0ff, #1e90ff);\\n  box-shadow: inset 0 2px 9px rgba(51, 48, 48, 0.3) inset 0 -2px 6px rgba(0, 0, 0, 0.4);\\n  overflow: hidden;\\n  transition: width 2s ease-out;\\n}\\n<div class=\"bars\">\\n  <ul>\\n    <li>\\n      <div class=\"meter cadetblue element-1\">\\n        <span data-progress=\"0\" style=\"width:0;\" id=\"bar-hunger\"></span>\\n      </div>\\n    </li>\\n    <li>\\n      <div class=\"meter element-2\">\\n        <span data-progress=\"0\" style=\"width:0;\" id=\"bar-thirst\"></span>\\n      </div>\\n    </li>\\n  </ul>\\n</div>\\n\\n\\n',\n",
       "  'answer': ['\\nTo make a div fixed position, use position: fixed;\\nIt will work in all browser except IE6 and some mobile devices.\\n.element {\\n    position: fixed;\\n    bottom: 0;\\n    width: 100%;\\n}\\n\\n']},\n",
       " 'https://islam.stackexchange.com/questions/55705/confused-over-whether-result-of-my-istikhara-is-positive-or-negative': {'question_title': <h1 class=\"fs-headline1 ow-break-word mb8 flex--item fl1\" itemprop=\"name\"><a class=\"question-hyperlink\" href=\"/questions/55705/confused-over-whether-result-of-my-istikhara-is-positive-or-negative\">Confused over whether result of my istikhara is positive or negative</a></h1>,\n",
       "  'question': '\\nI have been interested in a girl I met in my university. I wanted to ask for her hand in marriage but she told me she was already engaged to someone from her family (although she was interested in me but the family had already decided it for her through istikhara and she doesn\\'t want to disappoint them).\\nOver 3 years have passed but we still remain interested in each other, and for some reason or the other she couldn\\'t get married to his fiance either due to some accident or financial problems or no holidays from job, as well as the fiance\\'s reluctance to marry \"so early\" as he mentioned at the start to her.\\nI have been making dua to Allah for blessing me with her, and I\\'ve always felt agitated of what might happen if she would get married how would I live with myself etc. I cannot do anything however unless she asks her parents to talk to me, which she is scared to do because of her family and also because when her family did istikhara for the current fiance it seemed positive, even though every time some barrier appears between them in marriage.\\nI decided to do an istikhara myself on whether I should keep making dua for her hand in marriage, and since I am helpless in this matter right now that\\'s all I can do for now. After a few days, the agitation I had of losing her went away, but I still am inclined to make dua for marrying her and in my heart feel that she will contact me soon IA if I keep making dua. \\nI still have 2 days left of my 7 in istikhara, but I am unsure whether this is a positive sign or a negative sign for me to pursue for her marriage. I feel relatively calm and keep making dua for her hand but at the same time feel what if it\\'s a negative sign and I might be wrong in making dua?\\n',\n",
       "  'answer': [\"\\nWe can't answer your question as the only one who could answer it is you.\\nIstikhara beside consulting knowledgeable people or asking for advice is what we may call a tool or possibility to help us make decisions in our life.\\nYou pray an extra nafl prayer and then make a certain du'a and ask this way for help in making a decision. Allah may lead you by giving you a good or bad feeling about a matter. You still have the choice to act against it. You may repeat it as much as you like or need. And how you interpret Allah's guidance for you is something we actually can't comment. And in general istikharah for a matter must (or should) be done by the person involved even if there are some scholars who say it might be done by others. \\nBut in your case you should be aware that what you've seem to be doing is wrong altogether. If you know that a girl is engaged (has a fiancé) it is disliked to even think of asking for her hand unless this engagement has been ceased from either party (For eveidences for this refer to What should I do about prior attempts at seeking relationships and the effect it has with my current fiancé?).\\n\"]},\n",
       " 'https://stackoverflow.com/questions/33936004/position-fixed-not-working-in-chrome-no-matter-what': {'question_title': <h1 class=\"fs-headline1 ow-break-word mb8 flex--item fl1\" itemprop=\"name\"><a class=\"question-hyperlink\" href=\"/questions/33936004/position-fixed-not-working-in-chrome-no-matter-what\">Position: fixed not working in chrome no matter what</a></h1>,\n",
       "  'question': \"\\nI currently have a navigation AND a slide down Social menu in Sass which both are fixed.\\nYet when I scroll down nothing happens in Chrome. In Safari it does work.\\nI googled many times and even when I use\\n-webkit-backface-visibility: hidden;\\n-webkit-transform: translateZ(0);\\n-webkit-transform: translate3d(0, 0, 0);\\n\\nit still doesn't work.\\nHere is the css code for my social menu (it has a ul and a li in it)\\n.social-menu{\\n    position:fixed;\\n    top: 0;\\n    bottom:0;\\n    width:100%;\\n    height:100vh;\\n    z-index:10000;\\n    -webkit-backface-visibility: hidden;\\n-webkit-transform: translateZ(0);\\n-webkit-transform: translate3d(0, 0, 0);\\n\\n    background-color:rgba(123, 123, 123, 0.86);\\n\\n    .social-list{\\n        width:50%;\\n        margin:0 auto;\\n        .social-list-item{\\n            list-style-type: none;\\n        }\\n    }\\n}\\n\\nHere is my JSFiddle, my social menu is nested in my body. Here it works, maybe try it out for yourself in chrome?\\nAlso, I make use of <!DOCTYPE html>\\nhttp://jsfiddle.net/777t4twf/7/\\n\",\n",
       "  'answer': ['\\nIf you remove the transform-style: preserve-3d from the body and the -webkit-transform: translateZ(0); from the .container it works. Try it in your Chrome DevTools.\\nI assume that these transforms are (quite rightly) affecting the position of the nav in the z axis.\\nbody {\\n    margin: 0;\\n    padding: 0;\\n    height: 100%;\\n    min-height: 100%;\\n    /* -webkit-transform-style: preserve-3d; */\\n    /* transform-style: preserve-3d; */\\n    -webkit-font-smoothing: antialiased;\\n    -moz-osx-font-smoothing: grayscale;\\n}\\n\\n.container {\\n    width: 100%;\\n    background-color: #f1f1f1;\\n    /* -webkit-transform: translateZ(0); */\\n}\\n\\n']},\n",
       " 'https://stackoverflow.com/questions/16917392/how-can-i-output-several-numbers-per-line-in-java': {'question_title': <h1 class=\"fs-headline1 ow-break-word mb8 flex--item fl1\" itemprop=\"name\"><a class=\"question-hyperlink\" href=\"/questions/16917392/how-can-i-output-several-numbers-per-line-in-java\">How can I output several numbers per line in java</a></h1>,\n",
       "  'question': '\\nHi I am new in programming,so please don\\'t laugh from my stupid question.\\nI wrote program which ask user for input a number than program should output all the numbers from 0 to that entered number(doesn\\'t matter if it is positive or negative).\\nI have tried 3 different versions \\nHere is my code:\\nint min = Integer.MIN_VALUE;\\nint max = Integer.MAX_VALUE;\\nint num = PutiL.validNum(min, max, \"number\");\\n//this my utility methode which check if number is in range and if it is not a double or letter\\nint i = 0, z;\\nint y = 0;\\n\\n//3rd version\\nwhile (i <= num) {\\n    for (z = 0; z < 4; z++) {\\n        System.out.print(i + \" \");\\n        i++;\\n    }\\n    System.out.println();\\n}\\n\\n//2nd version\\nif (num > 0) {\\n    for (i = 0; i <= num; y++) {\\n        for (z = 0; z < 4; z++) {\\n           System.out.print(i + \",\");\\n            i++;\\n        }\\n        System.out.println();\\n    }\\n} else {\\n    for (i = 0; i > num; y--) {\\n        for (z = 0; z < 4; z++) {\\n           System.out.print(i + \",\");\\n            i--;\\n        }\\n        System.out.println();\\n    }\\n}\\n\\n//1st version`enter code here`\\nif (num > 0) {\\n    for (i = 0; i <= num; i++)\\n    {\\n       System.out.print(i + \",\");\\n    }\\n} else {\\n    for (i = 0; i >= num; i--) {\\n        System.out.print(i + \",\");\\n    }\\n}\\nSystem.out.println();\\n\\nProblem is that code doesn\\'t stop straight after number typed in by user. Will someone give me a hint what is wrong as I don\\'t have any more ideas. \\nAnd here is the PutiL methode\\npublic static int validNum(int min, int max, String words) {\\n    int num;\\n\\n    do {\\n        System.out.println(\"Please enter \" + words);\\n        while (!kb.hasNextInt()) {\\n            System.out.println(\"Please re-enter \");\\n            kb.nextLine();\\n        }\\n        num = kb.nextInt();\\n\\n        if (num < min || num > max) {\\n            System.out.println(\"Not in range - re-enter\\\\tproper range is \"\\n                    + min + \" - \" + max);\\n        }\\n\\n    } while (num < min || num > max);\\n    return num;\\n}\\n\\n',\n",
       "  'answer': ['\\n//2nd version\\nif (num > 0)\\n{\\n    for (i = 0; i <= num; y++)  <== THIS MAKE INFINITE too, OKAY.. ^^, change i to stop\\n    {\\n        for (z = 0; z < 4; z++)\\n        {\\n           System.out.print(i + \",\");\\n            i++;\\n        }\\n        System.out.println();\\n    }\\n} else\\n{\\n    for (i = 0; i > num; y--) <== THIS MAKE INFINITE LOOPS, OKAY.. ^^, it must i to stop\\n    {\\n        for (z = 0; z < 4; z++)\\n        {\\n           System.out.print(i + \",\");\\n            i--;\\n        }\\n        System.out.println();\\n    }\\n}\\n\\ndon\\'t forget to accepted the answer if it goes right.. ^^\\n']},\n",
       " 'https://stackoverflow.com/questions/72227296/does-the-position-of-error-handling-middleware-matter-in-express': {'question_title': <h1 class=\"fs-headline1 ow-break-word mb8 flex--item fl1\" itemprop=\"name\"><a class=\"question-hyperlink\" href=\"/questions/72227296/does-the-position-of-error-handling-middleware-matter-in-express\">Does the position of error handling middleware matter in express?</a></h1>,\n",
       "  'question': '\\nI was just curious since I thought it wouldn\\'t matter where you place the middleware in your code as long as it\\'s in the app/index.js\\nWhat I mean is this:\\nconst express = require(\"express\");\\nconst mongoose = require(\"mongoose\");\\nconst dotenv = require(\"dotenv\");\\nconst cors = require(\"cors\");\\n\\nconst app = express();\\ndotenv.config();\\n\\n// MIDDLEWARE\\napp.use(express.json());\\napp.use(express.urlencoded({ extended: false }));\\n\\napp.use(cors());\\n\\n// ROUTES\\nconst { errorHandler } = require(\"./middleware/errorMiddleware\");\\nconst goalRoutes = require(\"./routes/goalRoutes\");\\n\\napp.use(\"/api/goals\", goalRoutes);\\n\\napp.use(errorHandler);\\n\\nIf I put the errorHandler middleware above the routes like this:\\n// MIDDLEWARE\\nconst { errorHandler } = require(\"./middleware/errorMiddleware\");\\napp.use(express.json());\\napp.use(express.urlencoded({ extended: false }));\\n\\n\\napp.use(cors());\\napp.use(errorHandler);\\n\\n// ROUTES\\n\\nconst goalRoutes = require(\"./routes/goalRoutes\");\\napp.use(\"/api/goals\", goalRoutes);\\n\\nThe errorHandler wouldn\\'t work anymore.\\nDoes the position matter for this kind of middleware?\\nWhat other types of middleware needs to be in a proper position?\\n',\n",
       "  'answer': [\"\\nYes, position of middleware functions in express needs to be proper.\\nMiddleware functions in express work between a client's request and response. Every middleware function has access to request, response and its following middleware function. Middleware functions are executed in the order specified and skip error handling functions until it is invoked.\\napp.use(middleware1);\\napp.use(middleware2);\\napp.use(middleware3);\\n\\nIn the above example, middleware1 will be executed first and it invokes middleware2 by using,\\nnext();\\n\\n\\nSay middleware2 is an error handler method with a next function. middleware3 will not be executed unless an error occurred. Because error handling methods are executed only when it is invoked.\\nSay middleware2 is an error handler method without a next function. middleware3 will not be executed at all.\\n\\nso, error handling function must be at the middleware stack's last (also at the last of route handling methods).\\n\"]}}"
      ]
     },
     "execution_count": 47,
     "metadata": {},
     "output_type": "execute_result"
    }
   ],
   "source": [
    "SS = StackExchangeScraper(chrome_driver_path=max_chrome_driver_path,username=username, password=password)\n",
    "content =SS.scrape('what is positive matter')\n",
    "content"
   ]
  },
  {
   "cell_type": "code",
   "execution_count": 50,
   "metadata": {},
   "outputs": [
    {
     "name": "stdout",
     "output_type": "stream",
     "text": [
      "https://stackoverflow.com/questions/55769540/position-sticky-not-working-no-matter-what\n",
      "https://math.stackexchange.com/questions/3665900/determining-whether-a-matrix-is-positive-definite-from-its-lu-decomposition\n",
      "https://electronics.stackexchange.com/questions/499491/splicing-ac-adaptor-cord-which-is-positive-and-which-is-negative\n",
      "https://electronics.stackexchange.com/questions/227190/why-doesnt-positive-negative-terminal-matter-in-some-electrical-applicances\n",
      "https://stackoverflow.com/questions/7129597/how-to-keep-track-of-a-position-no-matter-what-screen-size-is\n",
      "https://stackoverflow.com/questions/74447652/if-the-value-in-sql-is-positive-how-can-i-do-this-operation-if-it-is-negative\n",
      "https://stackoverflow.com/questions/69641323/why-codeblocks-asking-me-to-add-a-after-elses-condition-if-i-add-a-th\n",
      "https://worldbuilding.stackexchange.com/questions/101581/negative-energy-beam-negative-matter-projectiles\n",
      "https://mathematica.stackexchange.com/questions/28659/manipulate-doesnt-work-for-plotting-a-region-where-a-matrix-is-positive-semi-de\n",
      "https://math.stackexchange.com/questions/4014709/show-that-sigma-is-positive-semidefinite-using-jensens-inequality\n",
      "https://stackoverflow.com/questions/71185626/how-to-make-a-div-fixed-on-the-same-position-no-matter-what-screen-size\n",
      "https://islam.stackexchange.com/questions/55705/confused-over-whether-result-of-my-istikhara-is-positive-or-negative\n",
      "https://stackoverflow.com/questions/33936004/position-fixed-not-working-in-chrome-no-matter-what\n",
      "https://stackoverflow.com/questions/16917392/how-can-i-output-several-numbers-per-line-in-java\n",
      "https://stackoverflow.com/questions/72227296/does-the-position-of-error-handling-middleware-matter-in-express\n"
     ]
    }
   ],
   "source": [
    "soup = BeautifulSoup(content, parser='html.parser')\n",
    "links = soup.find_all(class_='result-link')\n",
    "for link in links:\n",
    "    print(link.a['href'])\n",
    "a_links = [link.a['href'] for link in a]\n",
    "# print(len(links))\n"
   ]
  },
  {
   "cell_type": "code",
   "execution_count": null,
   "metadata": {},
   "outputs": [],
   "source": [
    "driver.get('https://stackoverflow.com/questions/55769540/position-sticky-not-working-no-matter-what')\n"
   ]
  },
  {
   "cell_type": "code",
   "execution_count": 120,
   "metadata": {},
   "outputs": [
    {
     "ename": "TypeError",
     "evalue": "object of type 'WebElement' has no len()",
     "output_type": "error",
     "traceback": [
      "\u001b[0;31m---------------------------------------------------------------------------\u001b[0m",
      "\u001b[0;31mTypeError\u001b[0m                                 Traceback (most recent call last)",
      "Cell \u001b[0;32mIn[120], line 1\u001b[0m\n\u001b[0;32m----> 1\u001b[0m soup \u001b[39m=\u001b[39m BeautifulSoup(content, parser\u001b[39m=\u001b[39;49m\u001b[39m'\u001b[39;49m\u001b[39mhtml.parser\u001b[39;49m\u001b[39m'\u001b[39;49m)\n\u001b[1;32m      2\u001b[0m \u001b[39m#links = content.text\u001b[39;00m\n\u001b[1;32m      3\u001b[0m links \u001b[39m=\u001b[39m soup\u001b[39m.\u001b[39mfind_all(\u001b[39m'\u001b[39m\u001b[39ma\u001b[39m\u001b[39m'\u001b[39m)\n",
      "File \u001b[0;32m~/Library/Python/3.9/lib/python/site-packages/bs4/__init__.py:313\u001b[0m, in \u001b[0;36mBeautifulSoup.__init__\u001b[0;34m(self, markup, features, builder, parse_only, from_encoding, exclude_encodings, element_classes, **kwargs)\u001b[0m\n\u001b[1;32m    311\u001b[0m \u001b[39mif\u001b[39;00m \u001b[39mhasattr\u001b[39m(markup, \u001b[39m'\u001b[39m\u001b[39mread\u001b[39m\u001b[39m'\u001b[39m):        \u001b[39m# It's a file-type object.\u001b[39;00m\n\u001b[1;32m    312\u001b[0m     markup \u001b[39m=\u001b[39m markup\u001b[39m.\u001b[39mread()\n\u001b[0;32m--> 313\u001b[0m \u001b[39melif\u001b[39;00m \u001b[39mlen\u001b[39;49m(markup) \u001b[39m<\u001b[39m\u001b[39m=\u001b[39m \u001b[39m256\u001b[39m \u001b[39mand\u001b[39;00m (\n\u001b[1;32m    314\u001b[0m         (\u001b[39misinstance\u001b[39m(markup, \u001b[39mbytes\u001b[39m) \u001b[39mand\u001b[39;00m \u001b[39mnot\u001b[39;00m \u001b[39mb\u001b[39m\u001b[39m'\u001b[39m\u001b[39m<\u001b[39m\u001b[39m'\u001b[39m \u001b[39min\u001b[39;00m markup)\n\u001b[1;32m    315\u001b[0m         \u001b[39mor\u001b[39;00m (\u001b[39misinstance\u001b[39m(markup, \u001b[39mstr\u001b[39m) \u001b[39mand\u001b[39;00m \u001b[39mnot\u001b[39;00m \u001b[39m'\u001b[39m\u001b[39m<\u001b[39m\u001b[39m'\u001b[39m \u001b[39min\u001b[39;00m markup)\n\u001b[1;32m    316\u001b[0m ):\n\u001b[1;32m    317\u001b[0m     \u001b[39m# Issue warnings for a couple beginner problems\u001b[39;00m\n\u001b[1;32m    318\u001b[0m     \u001b[39m# involving passing non-markup to Beautiful Soup.\u001b[39;00m\n\u001b[1;32m    319\u001b[0m     \u001b[39m# Beautiful Soup will still parse the input as markup,\u001b[39;00m\n\u001b[1;32m    320\u001b[0m     \u001b[39m# since that is sometimes the intended behavior.\u001b[39;00m\n\u001b[1;32m    321\u001b[0m     \u001b[39mif\u001b[39;00m \u001b[39mnot\u001b[39;00m \u001b[39mself\u001b[39m\u001b[39m.\u001b[39m_markup_is_url(markup):\n\u001b[1;32m    322\u001b[0m         \u001b[39mself\u001b[39m\u001b[39m.\u001b[39m_markup_resembles_filename(markup)                \n",
      "\u001b[0;31mTypeError\u001b[0m: object of type 'WebElement' has no len()"
     ]
    }
   ],
   "source": [
    "\n",
    "soup = BeautifulSoup(content, parser='html.parser')\n",
    "#links = content.text\n",
    "links = soup.find_all('a')\n",
    "herfs = []\n",
    "for link in links:\n",
    "    herf = link.get('herf')\n",
    "    herfs.append(herf)"
   ]
  },
  {
   "cell_type": "code",
   "execution_count": null,
   "metadata": {},
   "outputs": [],
   "source": [
    "herfs"
   ]
  },
  {
   "cell_type": "code",
   "execution_count": 71,
   "metadata": {},
   "outputs": [
    {
     "ename": "TypeError",
     "evalue": "__init__() got an unexpected keyword argument 'content'",
     "output_type": "error",
     "traceback": [
      "\u001b[0;31m---------------------------------------------------------------------------\u001b[0m",
      "\u001b[0;31mTypeError\u001b[0m                                 Traceback (most recent call last)",
      "Cell \u001b[0;32mIn[71], line 1\u001b[0m\n\u001b[0;32m----> 1\u001b[0m soup \u001b[39m=\u001b[39m BeautifulSoup(parser\u001b[39m=\u001b[39;49m\u001b[39m'\u001b[39;49m\u001b[39mhtml.parser\u001b[39;49m\u001b[39m'\u001b[39;49m, content\u001b[39m=\u001b[39;49mresult)\n\u001b[1;32m      2\u001b[0m soup\u001b[39m.\u001b[39mfind_all(\u001b[39m'\u001b[39m\u001b[39mherf\u001b[39m\u001b[39m'\u001b[39m)\n",
      "File \u001b[0;32m~/Library/Python/3.9/lib/python/site-packages/bs4/__init__.py:257\u001b[0m, in \u001b[0;36mBeautifulSoup.__init__\u001b[0;34m(self, markup, features, builder, parse_only, from_encoding, exclude_encodings, element_classes, **kwargs)\u001b[0m\n\u001b[1;32m    253\u001b[0m \u001b[39m# At this point either we have a TreeBuilder instance in\u001b[39;00m\n\u001b[1;32m    254\u001b[0m \u001b[39m# builder, or we have a builder_class that we can instantiate\u001b[39;00m\n\u001b[1;32m    255\u001b[0m \u001b[39m# with the remaining **kwargs.\u001b[39;00m\n\u001b[1;32m    256\u001b[0m \u001b[39mif\u001b[39;00m builder \u001b[39mis\u001b[39;00m \u001b[39mNone\u001b[39;00m:\n\u001b[0;32m--> 257\u001b[0m     builder \u001b[39m=\u001b[39m builder_class(\u001b[39m*\u001b[39;49m\u001b[39m*\u001b[39;49mkwargs)\n\u001b[1;32m    258\u001b[0m     \u001b[39mif\u001b[39;00m \u001b[39mnot\u001b[39;00m original_builder \u001b[39mand\u001b[39;00m \u001b[39mnot\u001b[39;00m (\n\u001b[1;32m    259\u001b[0m             original_features \u001b[39m==\u001b[39m builder\u001b[39m.\u001b[39mNAME \u001b[39mor\u001b[39;00m\n\u001b[1;32m    260\u001b[0m             original_features \u001b[39min\u001b[39;00m builder\u001b[39m.\u001b[39mALTERNATE_NAMES\n\u001b[1;32m    261\u001b[0m     ) \u001b[39mand\u001b[39;00m markup:\n\u001b[1;32m    262\u001b[0m         \u001b[39m# The user did not tell us which TreeBuilder to use,\u001b[39;00m\n\u001b[1;32m    263\u001b[0m         \u001b[39m# and we had to guess. Issue a warning.\u001b[39;00m\n\u001b[1;32m    264\u001b[0m         \u001b[39mif\u001b[39;00m builder\u001b[39m.\u001b[39mis_xml:\n",
      "File \u001b[0;32m~/Library/Python/3.9/lib/python/site-packages/bs4/builder/_lxml.py:139\u001b[0m, in \u001b[0;36mLXMLTreeBuilderForXML.__init__\u001b[0;34m(self, parser, empty_element_tags, **kwargs)\u001b[0m\n\u001b[1;32m    137\u001b[0m \u001b[39mself\u001b[39m\u001b[39m.\u001b[39mnsmaps \u001b[39m=\u001b[39m [\u001b[39mself\u001b[39m\u001b[39m.\u001b[39mDEFAULT_NSMAPS_INVERTED]\n\u001b[1;32m    138\u001b[0m \u001b[39mself\u001b[39m\u001b[39m.\u001b[39mactive_namespace_prefixes \u001b[39m=\u001b[39m [\u001b[39mdict\u001b[39m(\u001b[39mself\u001b[39m\u001b[39m.\u001b[39mDEFAULT_NSMAPS)]\n\u001b[0;32m--> 139\u001b[0m \u001b[39msuper\u001b[39;49m(LXMLTreeBuilderForXML, \u001b[39mself\u001b[39;49m)\u001b[39m.\u001b[39;49m\u001b[39m__init__\u001b[39;49m(\u001b[39m*\u001b[39;49m\u001b[39m*\u001b[39;49mkwargs)\n",
      "\u001b[0;31mTypeError\u001b[0m: __init__() got an unexpected keyword argument 'content'"
     ]
    }
   ],
   "source": [
    "soup = BeautifulSoup(parser='html.parser', content=result)\n",
    "soup.find_all('herf')"
   ]
  },
  {
   "cell_type": "code",
   "execution_count": 67,
   "metadata": {},
   "outputs": [
    {
     "data": {
      "text/plain": [
       "['__abstractmethods__',\n",
       " '__class__',\n",
       " '__delattr__',\n",
       " '__dict__',\n",
       " '__dir__',\n",
       " '__doc__',\n",
       " '__eq__',\n",
       " '__format__',\n",
       " '__ge__',\n",
       " '__getattribute__',\n",
       " '__gt__',\n",
       " '__hash__',\n",
       " '__init__',\n",
       " '__init_subclass__',\n",
       " '__le__',\n",
       " '__lt__',\n",
       " '__module__',\n",
       " '__ne__',\n",
       " '__new__',\n",
       " '__reduce__',\n",
       " '__reduce_ex__',\n",
       " '__repr__',\n",
       " '__setattr__',\n",
       " '__sizeof__',\n",
       " '__str__',\n",
       " '__subclasshook__',\n",
       " '__weakref__',\n",
       " '_abc_impl',\n",
       " '_execute',\n",
       " '_id',\n",
       " '_parent',\n",
       " '_upload',\n",
       " 'accessible_name',\n",
       " 'aria_role',\n",
       " 'clear',\n",
       " 'click',\n",
       " 'find_element',\n",
       " 'find_elements',\n",
       " 'get_attribute',\n",
       " 'get_dom_attribute',\n",
       " 'get_property',\n",
       " 'id',\n",
       " 'is_displayed',\n",
       " 'is_enabled',\n",
       " 'is_selected',\n",
       " 'location',\n",
       " 'location_once_scrolled_into_view',\n",
       " 'parent',\n",
       " 'rect',\n",
       " 'screenshot',\n",
       " 'screenshot_as_base64',\n",
       " 'screenshot_as_png',\n",
       " 'send_keys',\n",
       " 'shadow_root',\n",
       " 'size',\n",
       " 'submit',\n",
       " 'tag_name',\n",
       " 'text',\n",
       " 'value_of_css_property']"
      ]
     },
     "execution_count": 67,
     "metadata": {},
     "output_type": "execute_result"
    }
   ],
   "source": [
    "dir(result[0])"
   ]
  },
  {
   "cell_type": "code",
   "execution_count": null,
   "metadata": {},
   "outputs": [],
   "source": []
  }
 ],
 "metadata": {
  "kernelspec": {
   "display_name": "Python 3",
   "language": "python",
   "name": "python3"
  },
  "language_info": {
   "codemirror_mode": {
    "name": "ipython",
    "version": 3
   },
   "file_extension": ".py",
   "mimetype": "text/x-python",
   "name": "python",
   "nbconvert_exporter": "python",
   "pygments_lexer": "ipython3",
   "version": "3.9.6"
  },
  "orig_nbformat": 4
 },
 "nbformat": 4,
 "nbformat_minor": 2
}
