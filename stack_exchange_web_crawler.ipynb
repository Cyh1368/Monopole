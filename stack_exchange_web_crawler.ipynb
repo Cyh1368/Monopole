{
 "cells": [
  {
   "cell_type": "code",
   "execution_count": 3,
   "metadata": {},
   "outputs": [],
   "source": [
    "from selenium import webdriver\n",
    "from selenium.webdriver.support.ui import WebDriverWait\n",
    "from selenium.webdriver.support import expected_conditions as EC\n",
    "from selenium.webdriver.common.by import By\n",
    "from selenium.common.exceptions import TimeoutException\n",
    "from selenium.common.exceptions import ElementNotInteractableException\n",
    "from selenium.webdriver.common.keys import Keys\n",
    "from selenium import webdriver\n",
    "from webdriver_manager.chrome import ChromeDriverManager\n",
    "from selenium.webdriver.chrome.service import Service as ChromeService\n",
    "\n",
    "\n",
    "import time\n",
    "from dotenv import load_dotenv\n",
    "import os\n",
    "from bs4 import BeautifulSoup\n",
    "import sys\n",
    "import pprint\n",
    "max_chrome_driver_path = '/Users/maxlien/Downloads/chromedriver-mac-arm64/chromedriver'\n",
    "\n",
    "from dotenv import load_dotenv\n",
    "import os\n",
    "\n",
    "def config():\n",
    "    load_dotenv()\n",
    "  \n",
    "config()\n",
    "\n",
    "username = str(os.getenv('MONOPLE_GMAIL'))\n",
    "password=str(os.getenv('MONOPLE_PASSWORD'))\n",
    "service = ChromeService(executable_path=max_chrome_driver_path)\n",
    "service)"
   ]
  },
  {
   "cell_type": "code",
   "execution_count": null,
   "metadata": {},
   "outputs": [],
   "source": []
  },
  {
   "cell_type": "code",
   "execution_count": 26,
   "metadata": {},
   "outputs": [],
   "source": [
    "class StackExchangeScraper:\n",
    "    def __init__(self, chrome_driver_path=max_chrome_driver_path,username=username, password=password):\n",
    "        self.driver_path = chrome_driver_path\n",
    "        self.options = webdriver.ChromeOptions()\n",
    "        #print(self.options)\n",
    "        self.service = ChromeService(executable_path=self.driver_path)\n",
    "        self.driver = webdriver.Chrome(service=self.service) #executable_path= max_chrome_driver_path)#,options=self.options)#executable_path=self.driver_path)\n",
    "        self.wait = WebDriverWait(self.driver, 10)\n",
    "        \n",
    "        self.username =username\n",
    "        self.password = password\n",
    "\n",
    "    # ... rest of the class methods remain unchanged ...\n",
    "\n",
    "# Note: Only the initialization method of the class is shown here for brevity.\n",
    "# The rest of the class methods would remain unchanged from the previous version.\n",
    "    def _set_up_agent(self):\n",
    "        #set useragent\n",
    "        self.options.add_argument(\"user-agent=Mozilla/5.0 (Windows NT 10.0; Win64; x64) AppleWebKit/537.36 (KHTML, like Gecko) Chrome/91.0.4472.124 Safari/537.36\")\n",
    "\n",
    "    # def _setup_headless_driver(self):\n",
    "    #     \"\"\"\n",
    "    #     Sets up a headless Selenium Chrome driver.\n",
    "    #     \"\"\"\n",
    "    #     self.options.add_argument('--headless')\n",
    "    #     self.options.add_argument('--no-sandbox')\n",
    "    #     self.options.add_argument('--disable-dev-shm-usage')\n",
    "    #     self.driver = webdriver.Chrome(self.driver_path, options=options)\n",
    "    def _wait(self,type, name):\n",
    "        return self.wait.until(\n",
    "                EC.presence_of_element_located((type, name))\n",
    "            )\n",
    "    def _wait_all(self, type, name):\n",
    "        return self.wait.until(\n",
    "                EC.visibility_of_all_elements_located((type, name))\n",
    "            )\n",
    "    def _login(self, username, password):\n",
    "        \n",
    "        \n",
    "        login_button_XPATH = '/html/body/div[1]/header[1]/div/nav/ol/li[4]/a'\n",
    "        login_button = self._wait(By.XPATH, login_button_XPATH)\n",
    "        self.driver.execute_script(\"arguments[0].scrollIntoView();\", login_button)\n",
    "        login_button.click()\n",
    "\n",
    "\n",
    "        \n",
    "    \n",
    "\n",
    "        username_box = self._wait(By.XPATH, '//*[@id=\"email\"]')\n",
    "        username_box.send_keys(username)\n",
    "\n",
    "        password_box = self._wait(By.XPATH,'//*[@id=\"password\"]' )\n",
    "        password_box.send_keys(password)\n",
    "\n",
    "\n",
    "        submit_button =self._wait(By.XPATH, '//*[@id=\"submit-button\"]') \n",
    "        self.driver.execute_script(\"arguments[0].scrollIntoView();\", submit_button)\n",
    "        submit_button.click()\n",
    "\n",
    "\n",
    "\n",
    "\n",
    "    def search_links(self, input):\n",
    "        self._set_up_agent()\n",
    "        self.driver.get('https://stackexchange.com')\n",
    "\n",
    "        self._login(self.username, self.password)\n",
    "\n",
    "        search_box = self._wait(By.XPATH, '//*[@id=\"search\"]/div/input')\n",
    "        search_box.send_keys(input)\n",
    "        search_box.send_keys(Keys.ENTER)\n",
    "\n",
    "\n",
    "        content = self._wait(By.XPATH, '//*[@id=\"content\"]/div/div[3]')\n",
    "        soup = BeautifulSoup(content, parser='html.parser')\n",
    "        links = soup.find_all(class_='result-link')\n",
    "        # for link in links:\n",
    "        #     print(link.a['href'])\n",
    "        urls = [link.a['href'] for link in links]\n",
    "        return urls       \n",
    "        # try:\n",
    "        #     #for stack_exchange\n",
    "        #     #result_link_elements = self._wait_all(By.CSS_SELECTOR, \"result-link > a\")\n",
    "        #     #print(result_link_elements)\n",
    "        #     # Extracting the links within each of the 'result-link' elements\n",
    "        #     links =[]\n",
    "        #     for element in self._wait_all(By.CSS_SELECTOR, \"result-link > a\"):\n",
    "        #         links.append(element.get_attribute(\"herf\"))\n",
    "        # except TimeoutException :\n",
    "        #     #in case it redirect to meta.stackexchange\n",
    "        #     #result_link_elements = self._wait_all(By.CLASS_NAME, \"s-post-summary--content-title > a\")\n",
    "        #     #print(result_link_elements)\n",
    "        #     # Extracting the links within each of the 'result-link' elements\n",
    "        #     links = []\n",
    "        #     for element in self._wait_all(By.CSS_SELECTOR, \"s-post-summary--content-title > a\"):\n",
    "        #         links.append(element.get_attribute(\"innerHTML\"))\n",
    "\n",
    "        \n",
    "        # return links\n",
    "\n",
    "\n",
    "    def search_anwser(self,url):\n",
    "        answer = dict()\n",
    "        title_XPATH = '//*[@id=\"question-header\"]/h1/a'\n",
    "        answer_body_CLASS = 's-prose js-post-body'\n",
    "        self.driver.get(url)\n",
    "        title = self._wait(By.XPATH, title_XPATH)\n",
    "\n",
    "        answer_body = self._wait(By.CLASS_NAME, answer_body_CLASS)\n",
    "\n",
    "        answer['title'] = title.text\n",
    "        answer['answer'] = answer_body.text\n",
    "\n",
    "        return answer\n",
    "        \n",
    "\n",
    "\n",
    "\n",
    "    def scrape(self, input):\n",
    "        \"\"\"\n",
    "        Main method to scrape StackExchange for a given query and return the texts in a list.\n",
    "        \"\"\"\n",
    "        #self._setup_headless_driver()\n",
    "        \n",
    "        urls = self.search_links(input)\n",
    "        for url in urls:\n",
    "            self.search_anwser(url)\n",
    "\n",
    "        self.driver.quit()\n",
    "\n",
    "        return elements\n",
    "\n",
    "# Note: As before, the Selenium portion cannot be executed in this environment. \n",
    "# The code should be run in a local environment with the appropriate browser driver.\n"
   ]
  },
  {
   "cell_type": "code",
   "execution_count": 27,
   "metadata": {},
   "outputs": [
    {
     "data": {
      "text/plain": [
       "'\\n                <div class=\"question search-result\" id=\"question-summary-55769540\">\\n    <div class=\"hot-question-site-icon\">\\n        <a href=\"https://stackoverflow.com/questions/55769540/position-sticky-not-working-no-matter-what\" title=\"view this question on Stack Overflow\"><img src=\"https://cdn.sstatic.net/Sites/stackoverflow/Img/icon-48.png\"></a>\\n    </div>\\n    <div class=\"statscontainer\">\\n        <div class=\"stats\">\\n            <div class=\"vote\">\\n                <div class=\"votes\">\\n                    <span class=\"vote-count-post \"><strong>0</strong></span>\\n                    <div class=\"viewcount\">votes</div>\\n                </div>\\n            </div>\\n                <div class=\"status answered\">\\n                    <strong>2</strong>answers\\n                </div>\\n        </div>\\n    </div>\\n    <div class=\"summary\">\\n        <div class=\"result-link\">\\n            <span><a href=\"https://stackoverflow.com/questions/55769540/position-sticky-not-working-no-matter-what\">Position: sticky; not working no matter what</a></span>\\n        </div>\\n        <div class=\"excerpt\">\\n            Trying to get a class to remain sticky and constantly be in view when the user scrolls down the page, but doesn\\'t seem to work no matter what. \\n\\nI tired: \\n\\n.entry-summary{\\nposition: -webkit-sticky; /* … \\n        </div>\\n        <div class=\"tags user-tags\">\\n<a href=\"https://stackoverflow.com/questions/tagged/html\" class=\"post-tag\" title=\"show questions tagged \\'html\\'\" aria-label=\"show questions tagged \\'html\\'\" rel=\"tag\" aria-labelledby=\"tag-html-tooltip-container\">html</a><a href=\"https://stackoverflow.com/questions/tagged/css\" class=\"post-tag\" title=\"show questions tagged \\'css\\'\" aria-label=\"show questions tagged \\'css\\'\" rel=\"tag\" aria-labelledby=\"tag-css-tooltip-container\">css</a><a href=\"https://stackoverflow.com/questions/tagged/class\" class=\"post-tag\" title=\"show questions tagged \\'class\\'\" aria-label=\"show questions tagged \\'class\\'\" rel=\"tag\" aria-labelledby=\"tag-class-tooltip-container\">class</a><a href=\"https://stackoverflow.com/questions/tagged/position\" class=\"post-tag\" title=\"show questions tagged \\'position\\'\" aria-label=\"show questions tagged \\'position\\'\" rel=\"tag\" aria-labelledby=\"tag-position-tooltip-container\">position</a><a href=\"https://stackoverflow.com/questions/tagged/sticky\" class=\"post-tag\" title=\"show questions tagged \\'sticky\\'\" aria-label=\"show questions tagged \\'sticky\\'\" rel=\"tag\" aria-labelledby=\"tag-sticky-tooltip-container\">sticky</a>        </div>\\n        <div class=\"started float-right\">\\n            asked <span title=\"2019-04-20 01:42:55Z\" class=\"relativetime\">Apr 20, 2019 at 1:42</span> on \\n            <a href=\"https://stackoverflow.com\"><img class=\"favicon\" src=\"https://cdn.sstatic.net/Sites/stackoverflow/Img/favicon.ico\"> Stack Overflow</a>\\n        </div>\\n    </div>\\n</div>\\n                <div class=\"question search-result\" id=\"question-summary-3665900\">\\n    <div class=\"hot-question-site-icon\">\\n        <a href=\"https://math.stackexchange.com/questions/3665900/determining-whether-a-matrix-is-positive-definite-from-its-lu-decomposition\" title=\"view this question on Mathematics Stack Exchange\"><img src=\"https://cdn.sstatic.net/Sites/math/Img/icon-48.png\"></a>\\n    </div>\\n    <div class=\"statscontainer\">\\n        <div class=\"stats\">\\n            <div class=\"vote\">\\n                <div class=\"votes\">\\n                    <span class=\"vote-count-post \"><strong>0</strong></span>\\n                    <div class=\"viewcount\">votes</div>\\n                </div>\\n            </div>\\n                <div class=\"status answered-accepted\">\\n                    <strong>2</strong>answers\\n                </div>\\n        </div>\\n    </div>\\n    <div class=\"summary\">\\n        <div class=\"result-link\">\\n            <span><a href=\"https://math.stackexchange.com/questions/3665900/determining-whether-a-matrix-is-positive-definite-from-its-lu-decomposition\">Determining whether a matrix is positive definite from its LU decomposition</a></span>\\n        </div>\\n        <div class=\"excerpt\">\\n            Given that $A=LU$ where $L$ and $U$ are (known) lower and upper triangular matrices, is there any simple way to determine whether $A$ is positive definite?\\nBackground\\nI have been using this algorithm  … \\n        </div>\\n        <div class=\"tags user-tags\">\\n<a href=\"https://math.stackexchange.com/questions/tagged/linear-algebra\" class=\"post-tag\" title=\"show questions tagged \\'linear-algebra\\'\" aria-label=\"show questions tagged \\'linear-algebra\\'\" rel=\"tag\" aria-labelledby=\"tag-linear-algebra-tooltip-container\">linear-algebra</a><a href=\"https://math.stackexchange.com/questions/tagged/positive-definite\" class=\"post-tag\" title=\"show questions tagged \\'positive-definite\\'\" aria-label=\"show questions tagged \\'positive-definite\\'\" rel=\"tag\" aria-labelledby=\"tag-positive-definite-tooltip-container\">positive-definite</a><a href=\"https://math.stackexchange.com/questions/tagged/lu-decomposition\" class=\"post-tag\" title=\"show questions tagged \\'lu-decomposition\\'\" aria-label=\"show questions tagged \\'lu-decomposition\\'\" rel=\"tag\" aria-labelledby=\"tag-lu-decomposition-tooltip-container\">lu-decomposition</a><a href=\"https://math.stackexchange.com/questions/tagged/cholesky-decomposition\" class=\"post-tag\" title=\"show questions tagged \\'cholesky-decomposition\\'\" aria-label=\"show questions tagged \\'cholesky-decomposition\\'\" rel=\"tag\" aria-labelledby=\"tag-cholesky-decomposition-tooltip-container\">cholesky-decomposition</a>        </div>\\n        <div class=\"started float-right\">\\n            asked <span title=\"2020-05-09 01:22:14Z\" class=\"relativetime\">May 9, 2020 at 1:22</span> on \\n            <a href=\"https://math.stackexchange.com\"><img class=\"favicon\" src=\"https://cdn.sstatic.net/Sites/math/Img/favicon.ico\"> Mathematics Stack Exchange</a>\\n        </div>\\n    </div>\\n</div>\\n                <div class=\"question search-result\" id=\"question-summary-499491\">\\n    <div class=\"hot-question-site-icon\">\\n        <a href=\"https://electronics.stackexchange.com/questions/499491/splicing-ac-adaptor-cord-which-is-positive-and-which-is-negative\" title=\"view this question on Electrical Engineering Stack Exchange\"><img src=\"https://cdn.sstatic.net/Sites/electronics/Img/icon-48.png\"></a>\\n    </div>\\n    <div class=\"statscontainer\">\\n        <div class=\"stats\">\\n            <div class=\"vote\">\\n                <div class=\"votes\">\\n                    <span class=\"vote-count-post \"><strong>-2</strong></span>\\n                    <div class=\"viewcount\">votes</div>\\n                </div>\\n            </div>\\n                <div class=\"status answered\">\\n                    <strong>2</strong>answers\\n                </div>\\n        </div>\\n    </div>\\n    <div class=\"summary\">\\n        <div class=\"result-link\">\\n            <span><a href=\"https://electronics.stackexchange.com/questions/499491/splicing-ac-adaptor-cord-which-is-positive-and-which-is-negative\">splicing ac adaptor cord which is positive and which is negative?</a></span>\\n        </div>\\n        <div class=\"excerpt\">\\n            i lost my original asus router power adaptor. so i have a 12v power adaptor with a tip that fits my 19v asus wifi router, and i have a old 19v power adaptor that has a tip that is too small to fit my  … \\n        </div>\\n        <div class=\"tags user-tags\">\\n<a href=\"https://electronics.stackexchange.com/questions/tagged/power\" class=\"post-tag\" title=\"show questions tagged \\'power\\'\" aria-label=\"show questions tagged \\'power\\'\" rel=\"tag\" aria-labelledby=\"tag-power-tooltip-container\">power</a><a href=\"https://electronics.stackexchange.com/questions/tagged/ac\" class=\"post-tag\" title=\"show questions tagged \\'ac\\'\" aria-label=\"show questions tagged \\'ac\\'\" rel=\"tag\" aria-labelledby=\"tag-ac-tooltip-container\">ac</a><a href=\"https://electronics.stackexchange.com/questions/tagged/soldering\" class=\"post-tag\" title=\"show questions tagged \\'soldering\\'\" aria-label=\"show questions tagged \\'soldering\\'\" rel=\"tag\" aria-labelledby=\"tag-soldering-tooltip-container\">soldering</a><a href=\"https://electronics.stackexchange.com/questions/tagged/wire\" class=\"post-tag\" title=\"show questions tagged \\'wire\\'\" aria-label=\"show questions tagged \\'wire\\'\" rel=\"tag\" aria-labelledby=\"tag-wire-tooltip-container\">wire</a><a href=\"https://electronics.stackexchange.com/questions/tagged/adapter\" class=\"post-tag\" title=\"show questions tagged \\'adapter\\'\" aria-label=\"show questions tagged \\'adapter\\'\" rel=\"tag\" aria-labelledby=\"tag-adapter-tooltip-container\">adapter</a>        </div>\\n        <div class=\"started float-right\">\\n            asked <span title=\"2020-05-14 00:04:36Z\" class=\"relativetime\">May 14, 2020 at 0:04</span> on \\n            <a href=\"https://electronics.stackexchange.com\"><img class=\"favicon\" src=\"https://cdn.sstatic.net/Sites/electronics/Img/favicon.ico\"> Electrical Engineering Stack Exchange</a>\\n        </div>\\n    </div>\\n</div>\\n                <div class=\"question search-result\" id=\"question-summary-227190\">\\n    <div class=\"hot-question-site-icon\">\\n        <a href=\"https://electronics.stackexchange.com/questions/227190/why-doesnt-positive-negative-terminal-matter-in-some-electrical-applicances\" title=\"view this question on Electrical Engineering Stack Exchange\"><img src=\"https://cdn.sstatic.net/Sites/electronics/Img/icon-48.png\"></a>\\n    </div>\\n    <div class=\"statscontainer\">\\n        <div class=\"stats\">\\n            <div class=\"vote\">\\n                <div class=\"votes\">\\n                    <span class=\"vote-count-post \"><strong>-1</strong></span>\\n                    <div class=\"viewcount\">votes</div>\\n                </div>\\n            </div>\\n                <div class=\"status answered\">\\n                    <strong>4</strong>answers\\n                </div>\\n        </div>\\n    </div>\\n    <div class=\"summary\">\\n        <div class=\"result-link\">\\n            <span><a href=\"https://electronics.stackexchange.com/questions/227190/why-doesnt-positive-negative-terminal-matter-in-some-electrical-applicances\">Why doesn\\'t positive/negative terminal matter in some electrical applicances?</a></span>\\n        </div>\\n        <div class=\"excerpt\">\\n            I was wondering why, in some electrical appliances, it doesn\\'t matter which terminal is positive and which is negative, the applicance works anyway. They have plugs like this:\\n\\nAn example, the iPhone/ … \\n        </div>\\n        <div class=\"tags user-tags\">\\n<a href=\"https://electronics.stackexchange.com/questions/tagged/power-supply\" class=\"post-tag\" title=\"show questions tagged \\'power-supply\\'\" aria-label=\"show questions tagged \\'power-supply\\'\" rel=\"tag\" aria-labelledby=\"tag-power-supply-tooltip-container\">power-supply</a><a href=\"https://electronics.stackexchange.com/questions/tagged/ac\" class=\"post-tag\" title=\"show questions tagged \\'ac\\'\" aria-label=\"show questions tagged \\'ac\\'\" rel=\"tag\" aria-labelledby=\"tag-ac-tooltip-container\">ac</a>        </div>\\n        <div class=\"started float-right\">\\n            asked <span title=\"2016-04-08 15:25:41Z\" class=\"relativetime\">Apr 8, 2016 at 15:25</span> on \\n            <a href=\"https://electronics.stackexchange.com\"><img class=\"favicon\" src=\"https://cdn.sstatic.net/Sites/electronics/Img/favicon.ico\"> Electrical Engineering Stack Exchange</a>\\n        </div>\\n    </div>\\n</div>\\n                <div class=\"question search-result\" id=\"question-summary-7129597\">\\n    <div class=\"hot-question-site-icon\">\\n        <a href=\"https://stackoverflow.com/questions/7129597/how-to-keep-track-of-a-position-no-matter-what-screen-size-is\" title=\"view this question on Stack Overflow\"><img src=\"https://cdn.sstatic.net/Sites/stackoverflow/Img/icon-48.png\"></a>\\n    </div>\\n    <div class=\"statscontainer\">\\n        <div class=\"stats\">\\n            <div class=\"vote\">\\n                <div class=\"votes\">\\n                    <span class=\"vote-count-post \"><strong>0</strong></span>\\n                    <div class=\"viewcount\">votes</div>\\n                </div>\\n            </div>\\n                <div class=\"status answered-accepted\">\\n                    <strong>1</strong>answer\\n                </div>\\n        </div>\\n    </div>\\n    <div class=\"summary\">\\n        <div class=\"result-link\">\\n            <span><a href=\"https://stackoverflow.com/questions/7129597/how-to-keep-track-of-a-position-no-matter-what-screen-size-is\">How to keep track of a position no matter what screen size is?</a></span>\\n        </div>\\n        <div class=\"excerpt\">\\n            I\\'m trying to make a widget that selects an area in the page using JavaScript but the issue is that when it saves the X/Y and Width/Height, it\\'s actually only relevant to that screen size, so if we tr … \\n        </div>\\n        <div class=\"tags user-tags\">\\n<a href=\"https://stackoverflow.com/questions/tagged/javascript\" class=\"post-tag\" title=\"show questions tagged \\'javascript\\'\" aria-label=\"show questions tagged \\'javascript\\'\" rel=\"tag\" aria-labelledby=\"tag-javascript-tooltip-container\">javascript</a>        </div>\\n        <div class=\"started float-right\">\\n            asked <span title=\"2011-08-20 04:10:09Z\" class=\"relativetime\">Aug 20, 2011 at 4:10</span> on \\n            <a href=\"https://stackoverflow.com\"><img class=\"favicon\" src=\"https://cdn.sstatic.net/Sites/stackoverflow/Img/favicon.ico\"> Stack Overflow</a>\\n        </div>\\n    </div>\\n</div>\\n                <div class=\"question search-result\" id=\"question-summary-74447652\">\\n    <div class=\"hot-question-site-icon\">\\n        <a href=\"https://stackoverflow.com/questions/74447652/if-the-value-in-sql-is-positive-how-can-i-do-this-operation-if-it-is-negative\" title=\"view this question on Stack Overflow\"><img src=\"https://cdn.sstatic.net/Sites/stackoverflow/Img/icon-48.png\"></a>\\n    </div>\\n    <div class=\"statscontainer\">\\n        <div class=\"stats\">\\n            <div class=\"vote\">\\n                <div class=\"votes\">\\n                    <span class=\"vote-count-post \"><strong>0</strong></span>\\n                    <div class=\"viewcount\">votes</div>\\n                </div>\\n            </div>\\n                <div class=\"status answered-accepted\">\\n                    <strong>1</strong>answer\\n                </div>\\n        </div>\\n    </div>\\n    <div class=\"summary\">\\n        <div class=\"result-link\">\\n            <span><a href=\"https://stackoverflow.com/questions/74447652/if-the-value-in-sql-is-positive-how-can-i-do-this-operation-if-it-is-negative\">If the value in sql is positive, how can I do this operation if it is negative?</a></span>\\n        </div>\\n        <div class=\"excerpt\">\\n            I have a view query in SQL. If the values are positive in my query, I don\\'t have a problem right now. But when the values are negative, the wrong operation is done. Here\\'s how I can separate the opera … \\n        </div>\\n        <div class=\"tags user-tags\">\\n<a href=\"https://stackoverflow.com/questions/tagged/sql\" class=\"post-tag\" title=\"show questions tagged \\'sql\\'\" aria-label=\"show questions tagged \\'sql\\'\" rel=\"tag\" aria-labelledby=\"tag-sql-tooltip-container\">sql</a>        </div>\\n        <div class=\"started float-right\">\\n            asked <span title=\"2022-11-15 14:52:02Z\" class=\"relativetime\">Nov 15 at 14:52</span> on \\n            <a href=\"https://stackoverflow.com\"><img class=\"favicon\" src=\"https://cdn.sstatic.net/Sites/stackoverflow/Img/favicon.ico\"> Stack Overflow</a>\\n        </div>\\n    </div>\\n</div>\\n                <div class=\"question search-result\" id=\"question-summary-69641323\">\\n    <div class=\"hot-question-site-icon\">\\n        <a href=\"https://stackoverflow.com/questions/69641323/why-codeblocks-asking-me-to-add-a-after-elses-condition-if-i-add-a-th\" title=\"view this question on Stack Overflow\"><img src=\"https://cdn.sstatic.net/Sites/stackoverflow/Img/icon-48.png\"></a>\\n    </div>\\n    <div class=\"statscontainer\">\\n        <div class=\"stats\">\\n            <div class=\"vote\">\\n                <div class=\"votes\">\\n                    <span class=\"vote-count-post \"><strong>-1</strong></span>\\n                    <div class=\"viewcount\">votes</div>\\n                </div>\\n            </div>\\n                <div class=\"status answered\">\\n                    <strong>3</strong>answers\\n                </div>\\n        </div>\\n    </div>\\n    <div class=\"summary\">\\n        <div class=\"result-link\">\\n            <span><a href=\"https://stackoverflow.com/questions/69641323/why-codeblocks-asking-me-to-add-a-after-elses-condition-if-i-add-a-th\">Why codeblocks asking me to add a \";\" after else\\'s condition? If I add a \":\", there is still a logic error.(check the quesetion body for more detail)</a></span>\\n        </div>\\n        <div class=\"excerpt\">\\n            Write a C++ program to check whether a given integer is positive even, negative even, positive odd or negative odd.\\n#include &lt;iostream&gt;\\nusing namespace std;\\nint main()\\n{\\n    int n;\\n    cout&lt;&lt; \"Enter t … \\n        </div>\\n        <div class=\"tags user-tags\">\\n<a href=\"https://stackoverflow.com/questions/tagged/c%2b%2b\" class=\"post-tag\" title=\"show questions tagged \\'c++\\'\" aria-label=\"show questions tagged \\'c++\\'\" rel=\"tag\" aria-labelledby=\"tag-c++-tooltip-container\">c++</a>        </div>\\n        <div class=\"started float-right\">\\n            asked <span title=\"2021-10-20 06:35:14Z\" class=\"relativetime\">Oct 20, 2021 at 6:35</span> on \\n            <a href=\"https://stackoverflow.com\"><img class=\"favicon\" src=\"https://cdn.sstatic.net/Sites/stackoverflow/Img/favicon.ico\"> Stack Overflow</a>\\n        </div>\\n    </div>\\n</div>\\n                <div class=\"question search-result\" id=\"question-summary-101581\">\\n    <div class=\"hot-question-site-icon\">\\n        <a href=\"https://worldbuilding.stackexchange.com/questions/101581/negative-energy-beam-negative-matter-projectiles\" title=\"view this question on Worldbuilding Stack Exchange\"><img src=\"https://cdn.sstatic.net/Sites/worldbuilding/Img/icon-48.png\"></a>\\n    </div>\\n    <div class=\"statscontainer\">\\n        <div class=\"stats\">\\n            <div class=\"vote\">\\n                <div class=\"votes\">\\n                    <span class=\"vote-count-post \"><strong>-1</strong></span>\\n                    <div class=\"viewcount\">votes</div>\\n                </div>\\n            </div>\\n                <div class=\"status answered-accepted\">\\n                    <strong>1</strong>answer\\n                </div>\\n        </div>\\n    </div>\\n    <div class=\"summary\">\\n        <div class=\"result-link\">\\n            <span><a href=\"https://worldbuilding.stackexchange.com/questions/101581/negative-energy-beam-negative-matter-projectiles\">Negative energy beam / Negative matter projectiles</a></span>\\n        </div>\\n        <div class=\"excerpt\">\\n            Could you create a negative energy beam? If so what would be the effect directed at positive matter?\\n\\nIf it helps frame the question set the positive energy value to 1 -joule and the positive matter t … \\n        </div>\\n        <div class=\"tags user-tags\">\\n<a href=\"https://worldbuilding.stackexchange.com/questions/tagged/internal-consistency\" class=\"post-tag\" title=\"show questions tagged \\'internal-consistency\\'\" aria-label=\"show questions tagged \\'internal-consistency\\'\" rel=\"tag\" aria-labelledby=\"tag-internal-consistency-tooltip-container\">internal-consistency</a><a href=\"https://worldbuilding.stackexchange.com/questions/tagged/physics\" class=\"post-tag\" title=\"show questions tagged \\'physics\\'\" aria-label=\"show questions tagged \\'physics\\'\" rel=\"tag\" aria-labelledby=\"tag-physics-tooltip-container\">physics</a><a href=\"https://worldbuilding.stackexchange.com/questions/tagged/energy\" class=\"post-tag\" title=\"show questions tagged \\'energy\\'\" aria-label=\"show questions tagged \\'energy\\'\" rel=\"tag\" aria-labelledby=\"tag-energy-tooltip-container\">energy</a><a href=\"https://worldbuilding.stackexchange.com/questions/tagged/materials\" class=\"post-tag\" title=\"show questions tagged \\'materials\\'\" aria-label=\"show questions tagged \\'materials\\'\" rel=\"tag\" aria-labelledby=\"tag-materials-tooltip-container\">materials</a>        </div>\\n        <div class=\"started float-right\">\\n            asked <span title=\"2018-01-05 23:10:45Z\" class=\"relativetime\">Jan 5, 2018 at 23:10</span> on \\n            <a href=\"https://worldbuilding.stackexchange.com\"><img class=\"favicon\" src=\"https://cdn.sstatic.net/Sites/worldbuilding/Img/favicon.ico\"> Worldbuilding Stack Exchange</a>\\n        </div>\\n    </div>\\n</div>\\n                <div class=\"question search-result\" id=\"question-summary-28659\">\\n    <div class=\"hot-question-site-icon\">\\n        <a href=\"https://mathematica.stackexchange.com/questions/28659/manipulate-doesnt-work-for-plotting-a-region-where-a-matrix-is-positive-semi-de\" title=\"view this question on Mathematica Stack Exchange\"><img src=\"https://cdn.sstatic.net/Sites/mathematica/Img/icon-48.png\"></a>\\n    </div>\\n    <div class=\"statscontainer\">\\n        <div class=\"stats\">\\n            <div class=\"vote\">\\n                <div class=\"votes\">\\n                    <span class=\"vote-count-post \"><strong>1</strong></span>\\n                    <div class=\"viewcount\">vote</div>\\n                </div>\\n            </div>\\n                <div class=\"status answered-accepted\">\\n                    <strong>1</strong>answer\\n                </div>\\n        </div>\\n    </div>\\n    <div class=\"summary\">\\n        <div class=\"result-link\">\\n            <span><a href=\"https://mathematica.stackexchange.com/questions/28659/manipulate-doesnt-work-for-plotting-a-region-where-a-matrix-is-positive-semi-de\">Manipulate doesn\\'t work for plotting a region where a matrix is positive semi-definite</a></span>\\n        </div>\\n        <div class=\"excerpt\">\\n            I\\'m facing the following problem and would very much like you help. Thanks is advance!\\n\\nI have defined the following 4x4 matrix:\\n\\\\begin{equation}\\nS=\\\\left(\\n         \\\\begin{array}{cccc}\\n           \\\\frac … \\n        </div>\\n        <div class=\"tags user-tags\">\\n<a href=\"https://mathematica.stackexchange.com/questions/tagged/plotting\" class=\"post-tag\" title=\"show questions tagged \\'plotting\\'\" aria-label=\"show questions tagged \\'plotting\\'\" rel=\"tag\" aria-labelledby=\"tag-plotting-tooltip-container\">plotting</a><a href=\"https://mathematica.stackexchange.com/questions/tagged/matrix\" class=\"post-tag\" title=\"show questions tagged \\'matrix\\'\" aria-label=\"show questions tagged \\'matrix\\'\" rel=\"tag\" aria-labelledby=\"tag-matrix-tooltip-container\">matrix</a><a href=\"https://mathematica.stackexchange.com/questions/tagged/manipulate\" class=\"post-tag\" title=\"show questions tagged \\'manipulate\\'\" aria-label=\"show questions tagged \\'manipulate\\'\" rel=\"tag\" aria-labelledby=\"tag-manipulate-tooltip-container\">manipulate</a><a href=\"https://mathematica.stackexchange.com/questions/tagged/regions\" class=\"post-tag\" title=\"show questions tagged \\'regions\\'\" aria-label=\"show questions tagged \\'regions\\'\" rel=\"tag\" aria-labelledby=\"tag-regions-tooltip-container\">regions</a>        </div>\\n        <div class=\"started float-right\">\\n            asked <span title=\"2013-07-16 08:51:59Z\" class=\"relativetime\">Jul 16, 2013 at 8:51</span> on \\n            <a href=\"https://mathematica.stackexchange.com\"><img class=\"favicon\" src=\"https://cdn.sstatic.net/Sites/mathematica/Img/favicon.ico\"> Mathematica Stack Exchange</a>\\n        </div>\\n    </div>\\n</div>\\n                <div class=\"question search-result\" id=\"question-summary-4014709\">\\n    <div class=\"hot-question-site-icon\">\\n        <a href=\"https://math.stackexchange.com/questions/4014709/show-that-sigma-is-positive-semidefinite-using-jensens-inequality\" title=\"view this question on Mathematics Stack Exchange\"><img src=\"https://cdn.sstatic.net/Sites/math/Img/icon-48.png\"></a>\\n    </div>\\n    <div class=\"statscontainer\">\\n        <div class=\"stats\">\\n            <div class=\"vote\">\\n                <div class=\"votes\">\\n                    <span class=\"vote-count-post \"><strong>1</strong></span>\\n                    <div class=\"viewcount\">vote</div>\\n                </div>\\n            </div>\\n                <div class=\"status\">\\n                    <strong>0</strong>answers\\n                </div>\\n        </div>\\n    </div>\\n    <div class=\"summary\">\\n        <div class=\"result-link\">\\n            <span><a href=\"https://math.stackexchange.com/questions/4014709/show-that-sigma-is-positive-semidefinite-using-jensens-inequality\">Show that $\\\\Sigma$ is positive semidefinite using Jensen\\'s inequality</a></span>\\n        </div>\\n        <div class=\"excerpt\">\\n            Let $X\\\\in \\\\mathbb R^d$ be a random vector and $\\\\mu=E(X)\\\\in \\\\mathbb R^d$ be its mean. Let $\\\\Sigma=E[(X-\\\\mu)(X-\\\\mu)^T]\\\\in\\\\mathbb R^{d\\\\times d}$ be the variance-covariance matrix of X. Show that $\\\\Sigma$ … \\n        </div>\\n        <div class=\"tags user-tags\">\\n<a href=\"https://math.stackexchange.com/questions/tagged/random-variables\" class=\"post-tag\" title=\"show questions tagged \\'random-variables\\'\" aria-label=\"show questions tagged \\'random-variables\\'\" rel=\"tag\" aria-labelledby=\"tag-random-variables-tooltip-container\">random-variables</a><a href=\"https://math.stackexchange.com/questions/tagged/convex-analysis\" class=\"post-tag\" title=\"show questions tagged \\'convex-analysis\\'\" aria-label=\"show questions tagged \\'convex-analysis\\'\" rel=\"tag\" aria-labelledby=\"tag-convex-analysis-tooltip-container\">convex-analysis</a><a href=\"https://math.stackexchange.com/questions/tagged/positive-semidefinite\" class=\"post-tag\" title=\"show questions tagged \\'positive-semidefinite\\'\" aria-label=\"show questions tagged \\'positive-semidefinite\\'\" rel=\"tag\" aria-labelledby=\"tag-positive-semidefinite-tooltip-container\">positive-semidefinite</a>        </div>\\n        <div class=\"started float-right\">\\n            asked <span title=\"2021-02-06 07:20:07Z\" class=\"relativetime\">Feb 6, 2021 at 7:20</span> on \\n            <a href=\"https://math.stackexchange.com\"><img class=\"favicon\" src=\"https://cdn.sstatic.net/Sites/math/Img/favicon.ico\"> Mathematics Stack Exchange</a>\\n        </div>\\n    </div>\\n</div>\\n                <div class=\"question search-result\" id=\"question-summary-71185626\">\\n    <div class=\"hot-question-site-icon\">\\n        <a href=\"https://stackoverflow.com/questions/71185626/how-to-make-a-div-fixed-on-the-same-position-no-matter-what-screen-size\" title=\"view this question on Stack Overflow\"><img src=\"https://cdn.sstatic.net/Sites/stackoverflow/Img/icon-48.png\"></a>\\n    </div>\\n    <div class=\"statscontainer\">\\n        <div class=\"stats\">\\n            <div class=\"vote\">\\n                <div class=\"votes\">\\n                    <span class=\"vote-count-post \"><strong>-1</strong></span>\\n                    <div class=\"viewcount\">votes</div>\\n                </div>\\n            </div>\\n                <div class=\"status answered\">\\n                    <strong>4</strong>answers\\n                </div>\\n        </div>\\n    </div>\\n    <div class=\"summary\">\\n        <div class=\"result-link\">\\n            <span><a href=\"https://stackoverflow.com/questions/71185626/how-to-make-a-div-fixed-on-the-same-position-no-matter-what-screen-size\">How to make a div fixed on the same position, no matter what screen size</a></span>\\n        </div>\\n        <div class=\"excerpt\">\\n            I have the following problem: I want to put two bars, which got a either green or blue filling, in the bottom right. The problem is that those bars are not staying in the place they should. I want to  … \\n        </div>\\n        <div class=\"tags user-tags\">\\n<a href=\"https://stackoverflow.com/questions/tagged/html\" class=\"post-tag\" title=\"show questions tagged \\'html\\'\" aria-label=\"show questions tagged \\'html\\'\" rel=\"tag\" aria-labelledby=\"tag-html-tooltip-container\">html</a><a href=\"https://stackoverflow.com/questions/tagged/css\" class=\"post-tag\" title=\"show questions tagged \\'css\\'\" aria-label=\"show questions tagged \\'css\\'\" rel=\"tag\" aria-labelledby=\"tag-css-tooltip-container\">css</a>        </div>\\n        <div class=\"started float-right\">\\n            asked <span title=\"2022-02-19 13:52:08Z\" class=\"relativetime\">Feb 19, 2022 at 13:52</span> on \\n            <a href=\"https://stackoverflow.com\"><img class=\"favicon\" src=\"https://cdn.sstatic.net/Sites/stackoverflow/Img/favicon.ico\"> Stack Overflow</a>\\n        </div>\\n    </div>\\n</div>\\n                <div class=\"question search-result\" id=\"question-summary-55705\">\\n    <div class=\"hot-question-site-icon\">\\n        <a href=\"https://islam.stackexchange.com/questions/55705/confused-over-whether-result-of-my-istikhara-is-positive-or-negative\" title=\"view this question on Islam Stack Exchange\"><img src=\"https://cdn.sstatic.net/Sites/islam/Img/icon-48.png\"></a>\\n    </div>\\n    <div class=\"statscontainer\">\\n        <div class=\"stats\">\\n            <div class=\"vote\">\\n                <div class=\"votes\">\\n                    <span class=\"vote-count-post \"><strong>-1</strong></span>\\n                    <div class=\"viewcount\">votes</div>\\n                </div>\\n            </div>\\n                <div class=\"status answered\">\\n                    <strong>1</strong>answer\\n                </div>\\n        </div>\\n    </div>\\n    <div class=\"summary\">\\n        <div class=\"result-link\">\\n            <span><a href=\"https://islam.stackexchange.com/questions/55705/confused-over-whether-result-of-my-istikhara-is-positive-or-negative\">Confused over whether result of my istikhara is positive or negative</a></span>\\n        </div>\\n        <div class=\"excerpt\">\\n            I have been interested in a girl I met in my university. I wanted to ask for her hand in marriage but she told me she was already engaged to someone from her family (although she was interested in me  … \\n        </div>\\n        <div class=\"tags user-tags\">\\n<a href=\"https://islam.stackexchange.com/questions/tagged/salat\" class=\"post-tag\" title=\"show questions tagged \\'salat\\'\" aria-label=\"show questions tagged \\'salat\\'\" rel=\"tag\" aria-labelledby=\"tag-salat-tooltip-container\">salat</a><a href=\"https://islam.stackexchange.com/questions/tagged/allah\" class=\"post-tag\" title=\"show questions tagged \\'allah\\'\" aria-label=\"show questions tagged \\'allah\\'\" rel=\"tag\" aria-labelledby=\"tag-allah-tooltip-container\">allah</a><a href=\"https://islam.stackexchange.com/questions/tagged/dua\" class=\"post-tag\" title=\"show questions tagged \\'dua\\'\" aria-label=\"show questions tagged \\'dua\\'\" rel=\"tag\" aria-labelledby=\"tag-dua-tooltip-container\">dua</a><a href=\"https://islam.stackexchange.com/questions/tagged/istikharah\" class=\"post-tag\" title=\"show questions tagged \\'istikharah\\'\" aria-label=\"show questions tagged \\'istikharah\\'\" rel=\"tag\" aria-labelledby=\"tag-istikharah-tooltip-container\">istikharah</a>        </div>\\n        <div class=\"started float-right\">\\n            asked <span title=\"2019-06-12 09:20:27Z\" class=\"relativetime\">Jun 12, 2019 at 9:20</span> on \\n            <a href=\"https://islam.stackexchange.com\"><img class=\"favicon\" src=\"https://cdn.sstatic.net/Sites/islam/Img/favicon.ico\"> Islam Stack Exchange</a>\\n        </div>\\n    </div>\\n</div>\\n                <div class=\"question search-result\" id=\"question-summary-33936004\">\\n    <div class=\"hot-question-site-icon\">\\n        <a href=\"https://stackoverflow.com/questions/33936004/position-fixed-not-working-in-chrome-no-matter-what\" title=\"view this question on Stack Overflow\"><img src=\"https://cdn.sstatic.net/Sites/stackoverflow/Img/icon-48.png\"></a>\\n    </div>\\n    <div class=\"statscontainer\">\\n        <div class=\"stats\">\\n            <div class=\"vote\">\\n                <div class=\"votes\">\\n                    <span class=\"vote-count-post \"><strong>1</strong></span>\\n                    <div class=\"viewcount\">vote</div>\\n                </div>\\n            </div>\\n                <div class=\"status answered-accepted\">\\n                    <strong>2</strong>answers\\n                </div>\\n        </div>\\n    </div>\\n    <div class=\"summary\">\\n        <div class=\"result-link\">\\n            <span><a href=\"https://stackoverflow.com/questions/33936004/position-fixed-not-working-in-chrome-no-matter-what\">Position: fixed not working in chrome no matter what</a></span>\\n        </div>\\n        <div class=\"excerpt\">\\n            I currently have a navigation AND a slide down Social menu in Sass which both are fixed.\\n\\nYet when I scroll down nothing happens in Chrome. In Safari it does work.\\n\\nI googled many times and even when  … \\n        </div>\\n        <div class=\"tags user-tags\">\\n<a href=\"https://stackoverflow.com/questions/tagged/css\" class=\"post-tag\" title=\"show questions tagged \\'css\\'\" aria-label=\"show questions tagged \\'css\\'\" rel=\"tag\" aria-labelledby=\"tag-css-tooltip-container\">css</a><a href=\"https://stackoverflow.com/questions/tagged/google-chrome\" class=\"post-tag\" title=\"show questions tagged \\'google-chrome\\'\" aria-label=\"show questions tagged \\'google-chrome\\'\" rel=\"tag\" aria-labelledby=\"tag-google-chrome-tooltip-container\">google-chrome</a><a href=\"https://stackoverflow.com/questions/tagged/css-position\" class=\"post-tag\" title=\"show questions tagged \\'css-position\\'\" aria-label=\"show questions tagged \\'css-position\\'\" rel=\"tag\" aria-labelledby=\"tag-css-position-tooltip-container\">css-position</a><a href=\"https://stackoverflow.com/questions/tagged/fixed\" class=\"post-tag\" title=\"show questions tagged \\'fixed\\'\" aria-label=\"show questions tagged \\'fixed\\'\" rel=\"tag\" aria-labelledby=\"tag-fixed-tooltip-container\">fixed</a>        </div>\\n        <div class=\"started float-right\">\\n            asked <span title=\"2015-11-26 10:19:50Z\" class=\"relativetime\">Nov 26, 2015 at 10:19</span> on \\n            <a href=\"https://stackoverflow.com\"><img class=\"favicon\" src=\"https://cdn.sstatic.net/Sites/stackoverflow/Img/favicon.ico\"> Stack Overflow</a>\\n        </div>\\n    </div>\\n</div>\\n                <div class=\"question search-result\" id=\"question-summary-16917392\">\\n    <div class=\"hot-question-site-icon\">\\n        <a href=\"https://stackoverflow.com/questions/16917392/how-can-i-output-several-numbers-per-line-in-java\" title=\"view this question on Stack Overflow\"><img src=\"https://cdn.sstatic.net/Sites/stackoverflow/Img/icon-48.png\"></a>\\n    </div>\\n    <div class=\"statscontainer\">\\n        <div class=\"stats\">\\n            <div class=\"vote\">\\n                <div class=\"votes\">\\n                    <span class=\"vote-count-post \"><strong>1</strong></span>\\n                    <div class=\"viewcount\">vote</div>\\n                </div>\\n            </div>\\n                <div class=\"status answered\">\\n                    <strong>5</strong>answers\\n                </div>\\n        </div>\\n    </div>\\n    <div class=\"summary\">\\n        <div class=\"result-link\">\\n            <span><a href=\"https://stackoverflow.com/questions/16917392/how-can-i-output-several-numbers-per-line-in-java\">How can I output several numbers per line in java</a></span>\\n        </div>\\n        <div class=\"excerpt\">\\n            Hi I am new in programming,so please don\\'t laugh from my stupid question.\\n\\nI wrote program which ask user for input a number than program should output all the numbers from 0 to that entered number(do … \\n        </div>\\n        <div class=\"tags user-tags\">\\n<a href=\"https://stackoverflow.com/questions/tagged/java\" class=\"post-tag\" title=\"show questions tagged \\'java\\'\" aria-label=\"show questions tagged \\'java\\'\" rel=\"tag\" aria-labelledby=\"tag-java-tooltip-container\">java</a><a href=\"https://stackoverflow.com/questions/tagged/loops\" class=\"post-tag\" title=\"show questions tagged \\'loops\\'\" aria-label=\"show questions tagged \\'loops\\'\" rel=\"tag\" aria-labelledby=\"tag-loops-tooltip-container\">loops</a><a href=\"https://stackoverflow.com/questions/tagged/for-loop\" class=\"post-tag\" title=\"show questions tagged \\'for-loop\\'\" aria-label=\"show questions tagged \\'for-loop\\'\" rel=\"tag\" aria-labelledby=\"tag-for-loop-tooltip-container\">for-loop</a><a href=\"https://stackoverflow.com/questions/tagged/while-loop\" class=\"post-tag\" title=\"show questions tagged \\'while-loop\\'\" aria-label=\"show questions tagged \\'while-loop\\'\" rel=\"tag\" aria-labelledby=\"tag-while-loop-tooltip-container\">while-loop</a>        </div>\\n        <div class=\"started float-right\">\\n            asked <span title=\"2013-06-04 12:07:39Z\" class=\"relativetime\">Jun 4, 2013 at 12:07</span> on \\n            <a href=\"https://stackoverflow.com\"><img class=\"favicon\" src=\"https://cdn.sstatic.net/Sites/stackoverflow/Img/favicon.ico\"> Stack Overflow</a>\\n        </div>\\n    </div>\\n</div>\\n                <div class=\"question search-result\" id=\"question-summary-72227296\">\\n    <div class=\"hot-question-site-icon\">\\n        <a href=\"https://stackoverflow.com/questions/72227296/does-the-position-of-error-handling-middleware-matter-in-express\" title=\"view this question on Stack Overflow\"><img src=\"https://cdn.sstatic.net/Sites/stackoverflow/Img/icon-48.png\"></a>\\n    </div>\\n    <div class=\"statscontainer\">\\n        <div class=\"stats\">\\n            <div class=\"vote\">\\n                <div class=\"votes\">\\n                    <span class=\"vote-count-post \"><strong>1</strong></span>\\n                    <div class=\"viewcount\">vote</div>\\n                </div>\\n            </div>\\n                <div class=\"status answered-accepted\">\\n                    <strong>1</strong>answer\\n                </div>\\n        </div>\\n    </div>\\n    <div class=\"summary\">\\n        <div class=\"result-link\">\\n            <span><a href=\"https://stackoverflow.com/questions/72227296/does-the-position-of-error-handling-middleware-matter-in-express\">Does the position of error handling middleware matter in express?</a></span>\\n        </div>\\n        <div class=\"excerpt\">\\n            I was just curious since I thought it wouldn\\'t matter where you place the middleware in your code as long as it\\'s in the app/index.js\\nWhat I mean is this:\\nconst express = require(\"express\");\\nconst mon … \\n        </div>\\n        <div class=\"tags user-tags\">\\n<a href=\"https://stackoverflow.com/questions/tagged/node.js\" class=\"post-tag\" title=\"show questions tagged \\'node.js\\'\" aria-label=\"show questions tagged \\'node.js\\'\" rel=\"tag\" aria-labelledby=\"tag-node.js-tooltip-container\">node.js</a><a href=\"https://stackoverflow.com/questions/tagged/express\" class=\"post-tag\" title=\"show questions tagged \\'express\\'\" aria-label=\"show questions tagged \\'express\\'\" rel=\"tag\" aria-labelledby=\"tag-express-tooltip-container\">express</a><a href=\"https://stackoverflow.com/questions/tagged/error-handling\" class=\"post-tag\" title=\"show questions tagged \\'error-handling\\'\" aria-label=\"show questions tagged \\'error-handling\\'\" rel=\"tag\" aria-labelledby=\"tag-error-handling-tooltip-container\">error-handling</a><a href=\"https://stackoverflow.com/questions/tagged/middleware\" class=\"post-tag\" title=\"show questions tagged \\'middleware\\'\" aria-label=\"show questions tagged \\'middleware\\'\" rel=\"tag\" aria-labelledby=\"tag-middleware-tooltip-container\">middleware</a>        </div>\\n        <div class=\"started float-right\">\\n            asked <span title=\"2022-05-13 09:25:52Z\" class=\"relativetime\">May 13, 2022 at 9:25</span> on \\n            <a href=\"https://stackoverflow.com\"><img class=\"favicon\" src=\"https://cdn.sstatic.net/Sites/stackoverflow/Img/favicon.ico\"> Stack Overflow</a>\\n        </div>\\n    </div>\\n</div>\\n<div class=\"page-sizer float-right\"><a href=\"/search?q=what+is+positive+matter&amp;pagesize=15\" title=\"show 15 items per page\" class=\"page-numbers\">15</a>\\n<a href=\"/search?q=what+is+positive+matter&amp;pagesize=30\" title=\"show 30 items per page\" class=\"current page-numbers\">30</a>\\n<a href=\"/search?q=what+is+positive+matter&amp;pagesize=50\" title=\"show 50 items per page\" class=\"page-numbers\">50</a>\\n<span class=\"page-numbers desc\">per page</span>\\n</div><div class=\"pager float-left\">\\n<span class=\"page-numbers current\">1</span>\\n<a href=\"/search?q=what+is+positive+matter&amp;page=2\" title=\"go to page 2\"><span class=\"page-numbers\">2</span></a>\\n<a href=\"/search?q=what+is+positive+matter&amp;page=3\" title=\"go to page 3\"><span class=\"page-numbers\">3</span></a>\\n<a href=\"/search?q=what+is+positive+matter&amp;page=4\" title=\"go to page 4\"><span class=\"page-numbers\">4</span></a>\\n<a href=\"/search?q=what+is+positive+matter&amp;page=5\" title=\"go to page 5\"><span class=\"page-numbers\">5</span></a>\\n<span class=\"page-numbers dots\">…</span>\\n<a href=\"/search?q=what+is+positive+matter&amp;page=698\" title=\"go to page 698\"><span class=\"page-numbers\">698</span></a>\\n<a href=\"/search?q=what+is+positive+matter&amp;page=2\" title=\"go to page 2\" rel=\"next\"><span class=\"page-numbers next\"> next</span></a>\\n</div>\\n    '"
      ]
     },
     "execution_count": 27,
     "metadata": {},
     "output_type": "execute_result"
    }
   ],
   "source": [
    "SS = StackExchangeScraper(chrome_driver_path=max_chrome_driver_path,username=username, password=password)\n",
    "content =SS.scrape('what is positive matter')\n",
    "content"
   ]
  },
  {
   "cell_type": "code",
   "execution_count": 50,
   "metadata": {},
   "outputs": [
    {
     "name": "stdout",
     "output_type": "stream",
     "text": [
      "https://stackoverflow.com/questions/55769540/position-sticky-not-working-no-matter-what\n",
      "https://math.stackexchange.com/questions/3665900/determining-whether-a-matrix-is-positive-definite-from-its-lu-decomposition\n",
      "https://electronics.stackexchange.com/questions/499491/splicing-ac-adaptor-cord-which-is-positive-and-which-is-negative\n",
      "https://electronics.stackexchange.com/questions/227190/why-doesnt-positive-negative-terminal-matter-in-some-electrical-applicances\n",
      "https://stackoverflow.com/questions/7129597/how-to-keep-track-of-a-position-no-matter-what-screen-size-is\n",
      "https://stackoverflow.com/questions/74447652/if-the-value-in-sql-is-positive-how-can-i-do-this-operation-if-it-is-negative\n",
      "https://stackoverflow.com/questions/69641323/why-codeblocks-asking-me-to-add-a-after-elses-condition-if-i-add-a-th\n",
      "https://worldbuilding.stackexchange.com/questions/101581/negative-energy-beam-negative-matter-projectiles\n",
      "https://mathematica.stackexchange.com/questions/28659/manipulate-doesnt-work-for-plotting-a-region-where-a-matrix-is-positive-semi-de\n",
      "https://math.stackexchange.com/questions/4014709/show-that-sigma-is-positive-semidefinite-using-jensens-inequality\n",
      "https://stackoverflow.com/questions/71185626/how-to-make-a-div-fixed-on-the-same-position-no-matter-what-screen-size\n",
      "https://islam.stackexchange.com/questions/55705/confused-over-whether-result-of-my-istikhara-is-positive-or-negative\n",
      "https://stackoverflow.com/questions/33936004/position-fixed-not-working-in-chrome-no-matter-what\n",
      "https://stackoverflow.com/questions/16917392/how-can-i-output-several-numbers-per-line-in-java\n",
      "https://stackoverflow.com/questions/72227296/does-the-position-of-error-handling-middleware-matter-in-express\n"
     ]
    }
   ],
   "source": [
    "soup = BeautifulSoup(content, parser='html.parser')\n",
    "links = soup.find_all(class_='result-link')\n",
    "for link in links:\n",
    "    print(link.a['href'])\n",
    "# links = [link.a['href'] for link in a]\n",
    "# print(len(links))\n"
   ]
  },
  {
   "cell_type": "code",
   "execution_count": null,
   "metadata": {},
   "outputs": [],
   "source": [
    "driver.get('https://stackoverflow.com/questions/55769540/position-sticky-not-working-no-matter-what')\n"
   ]
  },
  {
   "cell_type": "code",
   "execution_count": 120,
   "metadata": {},
   "outputs": [
    {
     "ename": "TypeError",
     "evalue": "object of type 'WebElement' has no len()",
     "output_type": "error",
     "traceback": [
      "\u001b[0;31m---------------------------------------------------------------------------\u001b[0m",
      "\u001b[0;31mTypeError\u001b[0m                                 Traceback (most recent call last)",
      "Cell \u001b[0;32mIn[120], line 1\u001b[0m\n\u001b[0;32m----> 1\u001b[0m soup \u001b[39m=\u001b[39m BeautifulSoup(content, parser\u001b[39m=\u001b[39;49m\u001b[39m'\u001b[39;49m\u001b[39mhtml.parser\u001b[39;49m\u001b[39m'\u001b[39;49m)\n\u001b[1;32m      2\u001b[0m \u001b[39m#links = content.text\u001b[39;00m\n\u001b[1;32m      3\u001b[0m links \u001b[39m=\u001b[39m soup\u001b[39m.\u001b[39mfind_all(\u001b[39m'\u001b[39m\u001b[39ma\u001b[39m\u001b[39m'\u001b[39m)\n",
      "File \u001b[0;32m~/Library/Python/3.9/lib/python/site-packages/bs4/__init__.py:313\u001b[0m, in \u001b[0;36mBeautifulSoup.__init__\u001b[0;34m(self, markup, features, builder, parse_only, from_encoding, exclude_encodings, element_classes, **kwargs)\u001b[0m\n\u001b[1;32m    311\u001b[0m \u001b[39mif\u001b[39;00m \u001b[39mhasattr\u001b[39m(markup, \u001b[39m'\u001b[39m\u001b[39mread\u001b[39m\u001b[39m'\u001b[39m):        \u001b[39m# It's a file-type object.\u001b[39;00m\n\u001b[1;32m    312\u001b[0m     markup \u001b[39m=\u001b[39m markup\u001b[39m.\u001b[39mread()\n\u001b[0;32m--> 313\u001b[0m \u001b[39melif\u001b[39;00m \u001b[39mlen\u001b[39;49m(markup) \u001b[39m<\u001b[39m\u001b[39m=\u001b[39m \u001b[39m256\u001b[39m \u001b[39mand\u001b[39;00m (\n\u001b[1;32m    314\u001b[0m         (\u001b[39misinstance\u001b[39m(markup, \u001b[39mbytes\u001b[39m) \u001b[39mand\u001b[39;00m \u001b[39mnot\u001b[39;00m \u001b[39mb\u001b[39m\u001b[39m'\u001b[39m\u001b[39m<\u001b[39m\u001b[39m'\u001b[39m \u001b[39min\u001b[39;00m markup)\n\u001b[1;32m    315\u001b[0m         \u001b[39mor\u001b[39;00m (\u001b[39misinstance\u001b[39m(markup, \u001b[39mstr\u001b[39m) \u001b[39mand\u001b[39;00m \u001b[39mnot\u001b[39;00m \u001b[39m'\u001b[39m\u001b[39m<\u001b[39m\u001b[39m'\u001b[39m \u001b[39min\u001b[39;00m markup)\n\u001b[1;32m    316\u001b[0m ):\n\u001b[1;32m    317\u001b[0m     \u001b[39m# Issue warnings for a couple beginner problems\u001b[39;00m\n\u001b[1;32m    318\u001b[0m     \u001b[39m# involving passing non-markup to Beautiful Soup.\u001b[39;00m\n\u001b[1;32m    319\u001b[0m     \u001b[39m# Beautiful Soup will still parse the input as markup,\u001b[39;00m\n\u001b[1;32m    320\u001b[0m     \u001b[39m# since that is sometimes the intended behavior.\u001b[39;00m\n\u001b[1;32m    321\u001b[0m     \u001b[39mif\u001b[39;00m \u001b[39mnot\u001b[39;00m \u001b[39mself\u001b[39m\u001b[39m.\u001b[39m_markup_is_url(markup):\n\u001b[1;32m    322\u001b[0m         \u001b[39mself\u001b[39m\u001b[39m.\u001b[39m_markup_resembles_filename(markup)                \n",
      "\u001b[0;31mTypeError\u001b[0m: object of type 'WebElement' has no len()"
     ]
    }
   ],
   "source": [
    "\n",
    "soup = BeautifulSoup(content, parser='html.parser')\n",
    "#links = content.text\n",
    "links = soup.find_all('a')\n",
    "herfs = []\n",
    "for link in links:\n",
    "    herf = link.get('herf')\n",
    "    herfs.append(herf)"
   ]
  },
  {
   "cell_type": "code",
   "execution_count": null,
   "metadata": {},
   "outputs": [],
   "source": [
    "herfs"
   ]
  },
  {
   "cell_type": "code",
   "execution_count": 71,
   "metadata": {},
   "outputs": [
    {
     "ename": "TypeError",
     "evalue": "__init__() got an unexpected keyword argument 'content'",
     "output_type": "error",
     "traceback": [
      "\u001b[0;31m---------------------------------------------------------------------------\u001b[0m",
      "\u001b[0;31mTypeError\u001b[0m                                 Traceback (most recent call last)",
      "Cell \u001b[0;32mIn[71], line 1\u001b[0m\n\u001b[0;32m----> 1\u001b[0m soup \u001b[39m=\u001b[39m BeautifulSoup(parser\u001b[39m=\u001b[39;49m\u001b[39m'\u001b[39;49m\u001b[39mhtml.parser\u001b[39;49m\u001b[39m'\u001b[39;49m, content\u001b[39m=\u001b[39;49mresult)\n\u001b[1;32m      2\u001b[0m soup\u001b[39m.\u001b[39mfind_all(\u001b[39m'\u001b[39m\u001b[39mherf\u001b[39m\u001b[39m'\u001b[39m)\n",
      "File \u001b[0;32m~/Library/Python/3.9/lib/python/site-packages/bs4/__init__.py:257\u001b[0m, in \u001b[0;36mBeautifulSoup.__init__\u001b[0;34m(self, markup, features, builder, parse_only, from_encoding, exclude_encodings, element_classes, **kwargs)\u001b[0m\n\u001b[1;32m    253\u001b[0m \u001b[39m# At this point either we have a TreeBuilder instance in\u001b[39;00m\n\u001b[1;32m    254\u001b[0m \u001b[39m# builder, or we have a builder_class that we can instantiate\u001b[39;00m\n\u001b[1;32m    255\u001b[0m \u001b[39m# with the remaining **kwargs.\u001b[39;00m\n\u001b[1;32m    256\u001b[0m \u001b[39mif\u001b[39;00m builder \u001b[39mis\u001b[39;00m \u001b[39mNone\u001b[39;00m:\n\u001b[0;32m--> 257\u001b[0m     builder \u001b[39m=\u001b[39m builder_class(\u001b[39m*\u001b[39;49m\u001b[39m*\u001b[39;49mkwargs)\n\u001b[1;32m    258\u001b[0m     \u001b[39mif\u001b[39;00m \u001b[39mnot\u001b[39;00m original_builder \u001b[39mand\u001b[39;00m \u001b[39mnot\u001b[39;00m (\n\u001b[1;32m    259\u001b[0m             original_features \u001b[39m==\u001b[39m builder\u001b[39m.\u001b[39mNAME \u001b[39mor\u001b[39;00m\n\u001b[1;32m    260\u001b[0m             original_features \u001b[39min\u001b[39;00m builder\u001b[39m.\u001b[39mALTERNATE_NAMES\n\u001b[1;32m    261\u001b[0m     ) \u001b[39mand\u001b[39;00m markup:\n\u001b[1;32m    262\u001b[0m         \u001b[39m# The user did not tell us which TreeBuilder to use,\u001b[39;00m\n\u001b[1;32m    263\u001b[0m         \u001b[39m# and we had to guess. Issue a warning.\u001b[39;00m\n\u001b[1;32m    264\u001b[0m         \u001b[39mif\u001b[39;00m builder\u001b[39m.\u001b[39mis_xml:\n",
      "File \u001b[0;32m~/Library/Python/3.9/lib/python/site-packages/bs4/builder/_lxml.py:139\u001b[0m, in \u001b[0;36mLXMLTreeBuilderForXML.__init__\u001b[0;34m(self, parser, empty_element_tags, **kwargs)\u001b[0m\n\u001b[1;32m    137\u001b[0m \u001b[39mself\u001b[39m\u001b[39m.\u001b[39mnsmaps \u001b[39m=\u001b[39m [\u001b[39mself\u001b[39m\u001b[39m.\u001b[39mDEFAULT_NSMAPS_INVERTED]\n\u001b[1;32m    138\u001b[0m \u001b[39mself\u001b[39m\u001b[39m.\u001b[39mactive_namespace_prefixes \u001b[39m=\u001b[39m [\u001b[39mdict\u001b[39m(\u001b[39mself\u001b[39m\u001b[39m.\u001b[39mDEFAULT_NSMAPS)]\n\u001b[0;32m--> 139\u001b[0m \u001b[39msuper\u001b[39;49m(LXMLTreeBuilderForXML, \u001b[39mself\u001b[39;49m)\u001b[39m.\u001b[39;49m\u001b[39m__init__\u001b[39;49m(\u001b[39m*\u001b[39;49m\u001b[39m*\u001b[39;49mkwargs)\n",
      "\u001b[0;31mTypeError\u001b[0m: __init__() got an unexpected keyword argument 'content'"
     ]
    }
   ],
   "source": [
    "soup = BeautifulSoup(parser='html.parser', content=result)\n",
    "soup.find_all('herf')"
   ]
  },
  {
   "cell_type": "code",
   "execution_count": 67,
   "metadata": {},
   "outputs": [
    {
     "data": {
      "text/plain": [
       "['__abstractmethods__',\n",
       " '__class__',\n",
       " '__delattr__',\n",
       " '__dict__',\n",
       " '__dir__',\n",
       " '__doc__',\n",
       " '__eq__',\n",
       " '__format__',\n",
       " '__ge__',\n",
       " '__getattribute__',\n",
       " '__gt__',\n",
       " '__hash__',\n",
       " '__init__',\n",
       " '__init_subclass__',\n",
       " '__le__',\n",
       " '__lt__',\n",
       " '__module__',\n",
       " '__ne__',\n",
       " '__new__',\n",
       " '__reduce__',\n",
       " '__reduce_ex__',\n",
       " '__repr__',\n",
       " '__setattr__',\n",
       " '__sizeof__',\n",
       " '__str__',\n",
       " '__subclasshook__',\n",
       " '__weakref__',\n",
       " '_abc_impl',\n",
       " '_execute',\n",
       " '_id',\n",
       " '_parent',\n",
       " '_upload',\n",
       " 'accessible_name',\n",
       " 'aria_role',\n",
       " 'clear',\n",
       " 'click',\n",
       " 'find_element',\n",
       " 'find_elements',\n",
       " 'get_attribute',\n",
       " 'get_dom_attribute',\n",
       " 'get_property',\n",
       " 'id',\n",
       " 'is_displayed',\n",
       " 'is_enabled',\n",
       " 'is_selected',\n",
       " 'location',\n",
       " 'location_once_scrolled_into_view',\n",
       " 'parent',\n",
       " 'rect',\n",
       " 'screenshot',\n",
       " 'screenshot_as_base64',\n",
       " 'screenshot_as_png',\n",
       " 'send_keys',\n",
       " 'shadow_root',\n",
       " 'size',\n",
       " 'submit',\n",
       " 'tag_name',\n",
       " 'text',\n",
       " 'value_of_css_property']"
      ]
     },
     "execution_count": 67,
     "metadata": {},
     "output_type": "execute_result"
    }
   ],
   "source": [
    "dir(result[0])"
   ]
  },
  {
   "cell_type": "code",
   "execution_count": null,
   "metadata": {},
   "outputs": [],
   "source": []
  }
 ],
 "metadata": {
  "kernelspec": {
   "display_name": "Python 3",
   "language": "python",
   "name": "python3"
  },
  "language_info": {
   "codemirror_mode": {
    "name": "ipython",
    "version": 3
   },
   "file_extension": ".py",
   "mimetype": "text/x-python",
   "name": "python",
   "nbconvert_exporter": "python",
   "pygments_lexer": "ipython3",
   "version": "3.9.6"
  },
  "orig_nbformat": 4
 },
 "nbformat": 4,
 "nbformat_minor": 2
}
