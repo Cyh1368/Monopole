{
 "cells": [
  {
   "cell_type": "code",
   "execution_count": 5,
   "id": "19f52815",
   "metadata": {},
   "outputs": [],
   "source": [
    "from selenium import webdriver\n",
    "from selenium.webdriver.support.ui import WebDriverWait\n",
    "from selenium.webdriver.support import expected_conditions as EC\n",
    "from selenium.webdriver.common.by import By\n",
    "from selenium.common.exceptions import TimeoutException\n",
    "from selenium.common.exceptions import ElementNotInteractableException\n",
    "from selenium.webdriver.common.keys import Keys\n",
    "import time\n",
    "from dotenv import load_dotenv\n",
    "import os\n",
    "from bs4 import BeautifulSoup\n",
    "import sys\n",
    "import pprint\n",
    "max_chrome_driver_path = '/Users/maxlien/Downloads/chromedriver_mac_arm64/chromedriver'"
   ]
  },
  {
   "cell_type": "code",
   "execution_count": 2,
   "id": "7a8effad",
   "metadata": {},
   "outputs": [],
   "source": [
    "\n",
    "#https://stackoverflow.com/questions/67963239/scraping-and-crawling-quora-using-python\n",
    "\n",
    "# quora 的連結概念：\n",
    "# a%20b%20... (a,b 是任意文字)，則搜尋可能結果\n",
    "# a-b-c-...，則是只有完全符合該關鍵字的結果\n",
    "# 如果可以的話先試第二種在試第一種\n",
    "# 這裡我假設用戶不會輸入奇怪的輸入格式 ( 假如有的話在搜尋之前可能需要加入 NLP 技巧）\n",
    "\n",
    "inputs='What-is-gravity'\n",
    "query = input() # User input questions\n",
    "query_ver_1 = query.replace(\" \",\"%20\")\n",
    "query_ver_2 = query.replace(\" \",\"-\")\n",
    "url ='https://www.quora.com/' \n",
    "\n",
    "options = webdriver.ChromeOptions()\n",
    "options.add_argument('--headless')\n",
    "options.add_argument('--no-sandbox')\n",
    "options.add_argument('--disable-dev-shm-usage')\n",
    "chrome_driver_path = 'C:\\\\chrome_driver\\\\chromedriver_win32\\\\chromedriver.exe'\n",
    "# make sure to switch to urs -_-\n",
    "max_chrome_driver_path = '/Users/maxlien/Downloads/chromedriver_mac_arm64/chromedriver'\n",
    "\n",
    "driver = webdriver.Chrome(options = options, executable_path=max_chrome_driver_path)\n",
    "\n",
    "driver.get(url=url+query_ver_2)\n",
    "lh = driver.execute_script(\"return document.body.scrollHeight\")\n"
   ]
  },
  {
   "cell_type": "code",
   "execution_count": null,
   "id": "af4a0456",
   "metadata": {},
   "outputs": [],
   "source": [
    "# Define the find_element functions based on the assumptions\n",
    "\n",
    "def find_element_ver_1(driver, url, query_ver_1):\n",
    "    \"\"\"\n",
    "    Use the query version 1 to navigate to the Quora page and find elements by tag name 'p'.\n",
    "    \n",
    "    Parameters:\n",
    "    - driver: The selenium webdriver instance.\n",
    "    - url: The base Quora URL.\n",
    "    - query_ver_1: The query string in version 1 format.\n",
    "    \n",
    "    Returns:\n",
    "    - A list of found web elements.\n",
    "    \"\"\"\n",
    "    driver.get(url + query_ver_1)\n",
    "    elements = driver.find_elements(By.TAG_NAME, 'p')\n",
    "    return elements\n",
    "\n",
    "def find_element_ver_2(driver, url, query_ver_2):\n",
    "    \"\"\"\n",
    "    Use the query version 2 to navigate to the Quora page and find elements by tag name 'p'.\n",
    "    \n",
    "    Parameters:\n",
    "    - driver: The selenium webdriver instance.\n",
    "    - url: The base Quora URL.\n",
    "    - query_ver_2: The query string in version 2 format.\n",
    "    \n",
    "    Returns:\n",
    "    - A list of found web elements.\n",
    "    \"\"\"\n",
    "    driver.get(url + query_ver_2)\n",
    "    elements = driver.find_elements(By.TAG_NAME, 'p')\n",
    "    return elements\n",
    "\n"
   ]
  },
  {
   "cell_type": "code",
   "execution_count": 53,
   "id": "5118df07",
   "metadata": {},
   "outputs": [
    {
     "name": "stdout",
     "output_type": "stream",
     "text": [
      "2808\n"
     ]
    }
   ],
   "source": [
    "print(lh)"
   ]
  },
  {
   "cell_type": "code",
   "execution_count": 4,
   "id": "fae6fdf5",
   "metadata": {
    "scrolled": true
   },
   "outputs": [],
   "source": [
    "element = driver.find_elements(By.TAG_NAME,'p')"
   ]
  },
  {
   "cell_type": "code",
   "execution_count": 9,
   "id": "bd06d2d0",
   "metadata": {},
   "outputs": [
    {
     "name": "stdout",
     "output_type": "stream",
     "text": [
      "Gravity is a natural force that attracts any two objects in the universe towards each other. The strength of this force is determined by the mass of the objects and the distance between them. The most famous explanation of gravity is the th\n",
      "Prologue: The one thing that now becomes apparent I must impress upon all future readers at the outset, is that everything that follows has been experimentally verified to an uncanny level of precision. Both the curvature of space and the dilation of time seem to simply be empirical facts of our existence, and together these phenomena have convinced physicists that we are, at the very least, living in a four-dimensional reality called Space-Time.\n",
      "Edit: it’s also becoming increasingly apparent that Space-Time, itself, is only an emergent property of some deeper and more fundamental reality. Neve\n",
      "We really don’t know.\n",
      "Newton’s Universal Law of Gravitation explains that gravitational force is related to the mass of the object and the distance from the object. Einstein’s Theory of Relativity explains that mass distorts the fabric of “space-time” in such a way that gravitational effects are observed. Einstein’s theory goes on to correctly predict that these same distortions in space-time also bend light waves.\n",
      "In a sense, gravity is not a force per se. Rather, it is a manifestation of curved space-time. Having said this, it is not at all clear why mass should curve space-time. So, at a fund\n",
      "Gravity is still one of life's mysteries. We know it exists, but we don't know why it exists. We know that everything that has mass, has gravity. We even know how strong the force of gravity will be from an object, given its mass. But why does gravity exist? Where does it come from?\n",
      "Where Does Gravity Come From?\n",
      "Like anything in physics and science, there are theories.\n",
      "Gravitational Theories\n",
      "Maybe someday you can tell the world why gravity exists.\n"
     ]
    }
   ],
   "source": [
    "for i in element:\n",
    "    try:\n",
    "        if (i.text != ''):\n",
    "            print(i.text)\n",
    "    except:\n",
    "        continue"
   ]
  },
  {
   "cell_type": "code",
   "execution_count": 12,
   "id": "e72b7025",
   "metadata": {},
   "outputs": [],
   "source": [
    "# Defining a class to encapsulate the web scraping logic and return the texts in a list\n",
    "\n",
    "class QuoraScraper:\n",
    "    def __init__(self, chrome_driver_path):\n",
    "        self.driver_path = chrome_driver_path\n",
    "        self.driver = None\n",
    "\n",
    "    # def _setup_headless_driver(self):\n",
    "    #     \"\"\"\n",
    "    #     Sets up a headless Selenium Chrome driver.\n",
    "    #     \"\"\"\n",
    "    #     options = webdriver.ChromeOptions()\n",
    "    #     options.add_argument('--headless')\n",
    "    #     options.add_argument('--no-sandbox')\n",
    "    #     options.add_argument('--disable-dev-shm-usage')\n",
    "    #     self.driver = webdriver.Chrome(self.driver_path, options=options)\n",
    "\n",
    "    def _find_elements(self, url, query):\n",
    "        \"\"\"\n",
    "        Navigate to the Quora page based on the query and find elements by the tag name 'p'.\n",
    "        \"\"\"\n",
    "        query_ver_2 = query.replace(\" \", \"-\")\n",
    "        self.driver.get(url + query_ver_2)\n",
    "        return self.driver.find_elements(By.TAG_NAME, 'p')\n",
    "\n",
    "    def scrape(self, query):\n",
    "        \"\"\"\n",
    "        Main method to scrape Quora for a given query and return the texts in a list.\n",
    "        \"\"\"\n",
    "        url = 'https://www.quora.com/'\n",
    "        #self._setup_headless_driver()\n",
    "        elements = self._find_elements(url, query)\n",
    "        texts = [i.text for i in elements if i.text !='']\n",
    "\n",
    "        \n",
    "        self.driver.quit()\n",
    "        return texts\n",
    "\n",
    "# Example Usage:\n",
    "# scraper = QuoraScraper('YOUR_CHROMEDRIVER_PATH_HERE')\n",
    "# texts = scraper.scrape('What-is-gravity')\n",
    "# print(texts[:10])  # Displaying only the first 10 texts for brevity\n",
    "\n",
    "# Note: The above example usage is commented out as we cannot run Selenium in this environment.\n"
   ]
  },
  {
   "cell_type": "code",
   "execution_count": 13,
   "id": "36c057cf",
   "metadata": {},
   "outputs": [
    {
     "ename": "AttributeError",
     "evalue": "'NoneType' object has no attribute 'get'",
     "output_type": "error",
     "traceback": [
      "\u001b[0;31m---------------------------------------------------------------------------\u001b[0m",
      "\u001b[0;31mAttributeError\u001b[0m                            Traceback (most recent call last)",
      "Cell \u001b[0;32mIn[13], line 2\u001b[0m\n\u001b[1;32m      1\u001b[0m qs \u001b[39m=\u001b[39m QuoraScraper(max_chrome_driver_path)\n\u001b[0;32m----> 2\u001b[0m qs\u001b[39m.\u001b[39;49mscrape(\u001b[39m'\u001b[39;49m\u001b[39mwhat is gravity\u001b[39;49m\u001b[39m'\u001b[39;49m)\n",
      "Cell \u001b[0;32mIn[12], line 32\u001b[0m, in \u001b[0;36mQuoraScraper.scrape\u001b[0;34m(self, query)\u001b[0m\n\u001b[1;32m     30\u001b[0m url \u001b[39m=\u001b[39m \u001b[39m'\u001b[39m\u001b[39mhttps://www.quora.com/\u001b[39m\u001b[39m'\u001b[39m\n\u001b[1;32m     31\u001b[0m \u001b[39m#self._setup_headless_driver()\u001b[39;00m\n\u001b[0;32m---> 32\u001b[0m elements \u001b[39m=\u001b[39m \u001b[39mself\u001b[39;49m\u001b[39m.\u001b[39;49m_find_elements(url, query)\n\u001b[1;32m     33\u001b[0m texts \u001b[39m=\u001b[39m [i\u001b[39m.\u001b[39mtext \u001b[39mfor\u001b[39;00m i \u001b[39min\u001b[39;00m elements \u001b[39mif\u001b[39;00m i\u001b[39m.\u001b[39mtext \u001b[39m!=\u001b[39m\u001b[39m'\u001b[39m\u001b[39m'\u001b[39m]\n\u001b[1;32m     36\u001b[0m \u001b[39mself\u001b[39m\u001b[39m.\u001b[39mdriver\u001b[39m.\u001b[39mquit()\n",
      "Cell \u001b[0;32mIn[12], line 23\u001b[0m, in \u001b[0;36mQuoraScraper._find_elements\u001b[0;34m(self, url, query)\u001b[0m\n\u001b[1;32m     19\u001b[0m \u001b[39m\"\"\"\u001b[39;00m\n\u001b[1;32m     20\u001b[0m \u001b[39mNavigate to the Quora page based on the query and find elements by the tag name 'p'.\u001b[39;00m\n\u001b[1;32m     21\u001b[0m \u001b[39m\"\"\"\u001b[39;00m\n\u001b[1;32m     22\u001b[0m query_ver_2 \u001b[39m=\u001b[39m query\u001b[39m.\u001b[39mreplace(\u001b[39m\"\u001b[39m\u001b[39m \u001b[39m\u001b[39m\"\u001b[39m, \u001b[39m\"\u001b[39m\u001b[39m-\u001b[39m\u001b[39m\"\u001b[39m)\n\u001b[0;32m---> 23\u001b[0m \u001b[39mself\u001b[39;49m\u001b[39m.\u001b[39;49mdriver\u001b[39m.\u001b[39;49mget(url \u001b[39m+\u001b[39m query_ver_2)\n\u001b[1;32m     24\u001b[0m \u001b[39mreturn\u001b[39;00m \u001b[39mself\u001b[39m\u001b[39m.\u001b[39mdriver\u001b[39m.\u001b[39mfind_elements(By\u001b[39m.\u001b[39mTAG_NAME, \u001b[39m'\u001b[39m\u001b[39mp\u001b[39m\u001b[39m'\u001b[39m)\n",
      "\u001b[0;31mAttributeError\u001b[0m: 'NoneType' object has no attribute 'get'"
     ]
    }
   ],
   "source": [
    "qs = QuoraScraper(max_chrome_driver_path)\n",
    "qs.scrape('what is gravity')"
   ]
  },
  {
   "cell_type": "code",
   "execution_count": null,
   "id": "e10d7870",
   "metadata": {},
   "outputs": [],
   "source": [
    "driver.get()"
   ]
  }
 ],
 "metadata": {
  "kernelspec": {
   "display_name": "Python 3 (ipykernel)",
   "language": "python",
   "name": "python3"
  },
  "language_info": {
   "codemirror_mode": {
    "name": "ipython",
    "version": 3
   },
   "file_extension": ".py",
   "mimetype": "text/x-python",
   "name": "python",
   "nbconvert_exporter": "python",
   "pygments_lexer": "ipython3",
   "version": "3.9.6"
  }
 },
 "nbformat": 4,
 "nbformat_minor": 5
}
