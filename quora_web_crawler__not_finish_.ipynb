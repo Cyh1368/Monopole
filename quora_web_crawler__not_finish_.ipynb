{
 "cells": [
  {
   "cell_type": "code",
   "execution_count": 23,
   "id": "19f52815",
   "metadata": {},
   "outputs": [],
   "source": [
    "from selenium import webdriver\n",
    "from selenium.webdriver.support.ui import WebDriverWait\n",
    "from selenium.webdriver.support import expected_conditions as EC\n",
    "from selenium.webdriver.common.by import By\n",
    "from selenium.common.exceptions import TimeoutException\n",
    "from selenium.common.exceptions import ElementNotInteractableException\n",
    "from selenium.webdriver.common.keys import Keys\n",
    "import time\n",
    "from dotenv import load_dotenv\n",
    "import os\n",
    "from bs4 import BeautifulSoup\n",
    "import sys\n",
    "import pprint"
   ]
  },
  {
   "cell_type": "code",
   "execution_count": 52,
   "id": "7a8effad",
   "metadata": {},
   "outputs": [
    {
     "name": "stdout",
     "output_type": "stream",
     "text": [
      "What is gravity\n"
     ]
    }
   ],
   "source": [
    "\n",
    "#https://stackoverflow.com/questions/67963239/scraping-and-crawling-quora-using-python\n",
    "\n",
    "# quora 的連結概念：\n",
    "# a%20b%20... (a,b 是任意文字)，則搜尋可能結果\n",
    "# a-b-c-...，則是只有完全符合該關鍵字的結果\n",
    "# 如果可以的話先試第二種在試第一種\n",
    "# 這裡我假設用戶不會輸入奇怪的輸入格式 ( 假如有的話在搜尋之前可能需要加入 NLP 技巧）\n",
    "\n",
    "inputs='What-is-gravity'\n",
    "query = input() # User input questions\n",
    "query_ver_1 = query.replace(\" \",\"%20\")\n",
    "query_ver_2 = query.replace(\" \",\"-\")\n",
    "url ='https://www.quora.com/' \n",
    "\n",
    "options = webdriver.ChromeOptions()\n",
    "options.add_argument('--headless')\n",
    "options.add_argument('--no-sandbox')\n",
    "options.add_argument('--disable-dev-shm-usage')\n",
    "chrome_driver_path = 'C:\\\\chrome_driver\\\\chromedriver_win32\\\\chromedriver.exe'\n",
    "\n",
    "driver = webdriver.Chrome(options = options)\n",
    "\n",
    "driver.get(url=url+query_ver_2)\n",
    "lh = driver.execute_script(\"return document.body.scrollHeight\")\n"
   ]
  },
  {
   "cell_type": "code",
   "execution_count": null,
   "id": "af4a0456",
   "metadata": {},
   "outputs": [],
   "source": [
    "global element\n",
    "def find_element_ver_1():\n",
    "    \n",
    "    \n",
    "def find_element_ver_2():\n",
    "    element = driver.find_elements(By.TAG_NAME,'p')"
   ]
  },
  {
   "cell_type": "code",
   "execution_count": 53,
   "id": "5118df07",
   "metadata": {},
   "outputs": [
    {
     "name": "stdout",
     "output_type": "stream",
     "text": [
      "2808\n"
     ]
    }
   ],
   "source": [
    "print(lh)"
   ]
  },
  {
   "cell_type": "code",
   "execution_count": 54,
   "id": "fae6fdf5",
   "metadata": {
    "scrolled": true
   },
   "outputs": [],
   "source": [
    "element = driver.find_elements(By.TAG_NAME,'p')"
   ]
  },
  {
   "cell_type": "code",
   "execution_count": 55,
   "id": "bd06d2d0",
   "metadata": {},
   "outputs": [
    {
     "name": "stdout",
     "output_type": "stream",
     "text": [
      "('Gravity is the force by which a planet or other body draws objects toward '\n",
      " 'its center. The force of gravity keeps all of the planets in orbit around '\n",
      " \"the sun. Earth's gravity is what keeps you on the ground and what makes \"\n",
      " 'things fall.')\n",
      "'In Newtonian Mechanics, it is the force of attraction between masses.'\n",
      "'In General Relativity, it is the distortion of spacetime by mass.'\n",
      "'The latter is more exact; the former is easier to use for civil engineers.'\n",
      "('Prologue: The one thing that now becomes apparent I must impress upon all '\n",
      " 'future readers at the outset, is that everything that follows has been '\n",
      " 'experimentally verified to an uncanny level of precision. Both the curvature '\n",
      " 'of space and the dilation of time seem to simply be empirical facts of our '\n",
      " 'existence, and together these phenomena have convinced physicists that we '\n",
      " 'are, at the very least, living in a four-dimensional reality called '\n",
      " 'Space-Time.')\n",
      "('Edit: it’s also becoming increasingly apparent that Space-Time, itself, is '\n",
      " 'only an emergent property of some deeper and more fundamental reality. Neve')\n",
      "(\"I'm going to answer this in a slightly different way from everyone else, but \"\n",
      " \"my conclusion will be pretty similar. To start with, I'm going to assume \"\n",
      " \"that the question isn't asking why does mass cause gravity but rather why \"\n",
      " 'are inertial mass and gravitational mass the same thing (apparently)? In '\n",
      " 'other words, why does that characteristic of an object which limits its '\n",
      " 'acceleration to a ratio of the force applied and this thing we call inertial '\n",
      " 'mass, also tell us why that same object is accelerated towards another '\n",
      " \"object by as the ratio of that second object's mass and the square of the \"\n",
      " 'distanc')\n"
     ]
    }
   ],
   "source": [
    "for i in element:\n",
    "    try:\n",
    "        if (i.text != ''):\n",
    "            pprint.pprint(i.text)\n",
    "    except:\n",
    "        continue"
   ]
  },
  {
   "cell_type": "code",
   "execution_count": null,
   "id": "e72b7025",
   "metadata": {},
   "outputs": [],
   "source": []
  }
 ],
 "metadata": {
  "kernelspec": {
   "display_name": "Python 3 (ipykernel)",
   "language": "python",
   "name": "python3"
  },
  "language_info": {
   "codemirror_mode": {
    "name": "ipython",
    "version": 3
   },
   "file_extension": ".py",
   "mimetype": "text/x-python",
   "name": "python",
   "nbconvert_exporter": "python",
   "pygments_lexer": "ipython3",
   "version": "3.9.9"
  }
 },
 "nbformat": 4,
 "nbformat_minor": 5
}
